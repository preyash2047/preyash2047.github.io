{
  "nbformat": 4,
  "nbformat_minor": 0,
  "metadata": {
    "colab": {
      "name": "doc text recognition",
      "provenance": [],
      "collapsed_sections": [
        "TuORfGZ7POph"
      ]
    },
    "kernelspec": {
      "name": "python3",
      "display_name": "Python 3"
    }
  },
  "cells": [
    {
      "cell_type": "markdown",
      "metadata": {
        "id": "-BWrExGQdKbt"
      },
      "source": [
        "#Step 1: Define problem\n",
        "upload image and convert image into text document"
      ]
    },
    {
      "cell_type": "markdown",
      "metadata": {
        "id": "3uTzkgUOduXK"
      },
      "source": [
        "#Step 2: Construct and prepare data"
      ]
    },
    {
      "cell_type": "code",
      "metadata": {
        "id": "3hGMHoH5Z0uC"
      },
      "source": [
        "import os\n",
        "import shutil\n",
        "import urllib.request"
      ],
      "execution_count": null,
      "outputs": []
    },
    {
      "cell_type": "code",
      "metadata": {
        "id": "Q_zriXDAu3Fs",
        "outputId": "650ccb00-d022-44c4-f08f-e6cf09e3e252",
        "colab": {
          "base_uri": "https://localhost:8080/",
          "height": 1000
        }
      },
      "source": [
        "urllib.request.urlretrieve('https://github.com/atomic14/ar-browser-sudoku/raw/master/tensorflow/fonts/google.zip', 'data.zip')\n",
        "from zipfile import ZipFile  \n",
        "with ZipFile(\"/content/data.zip\", 'r') as zip: \n",
        "\tzip.printdir() \n",
        "\tzip.extractall() "
      ],
      "execution_count": null,
      "outputs": [
        {
          "output_type": "stream",
          "text": [
            "File Name                                             Modified             Size\n",
            "google/                                        2017-11-15 09:11:46            0\n",
            "google/Amatic_SC/                              2017-11-15 09:11:34            0\n",
            "google/Amatic_SC/AmaticSC-Regular.ttf          2017-11-15 09:11:34       146356\n",
            "google/Amatic_SC/AmaticSC-Bold.ttf             2017-11-15 09:11:34       139880\n",
            "google/Amatic_SC/OFL.txt                       2017-11-15 09:11:34         4466\n",
            "google/Tinos/                                  2020-07-25 19:02:56            0\n",
            "google/Tinos/Tinos-Regular.ttf                 2017-11-15 09:11:38       475288\n",
            "google/Tinos/Tinos-Bold.ttf                    2017-11-15 09:11:38       451516\n",
            "google/Tinos/LICENSE.txt                       2017-11-15 09:11:38        11560\n",
            "google/Paytone_One/                            2017-11-15 09:11:42            0\n",
            "google/Paytone_One/PaytoneOne-Regular.ttf      2017-11-15 09:11:42       106936\n",
            "google/Paytone_One/OFL.txt                     2017-11-15 09:11:42         4540\n",
            "google/Asap/                                   2020-07-25 19:02:56            0\n",
            "google/Asap/Asap-Medium.ttf                    2017-11-15 09:11:34        67588\n",
            "google/Asap/Asap-Bold.ttf                      2017-11-15 09:11:34        68144\n",
            "google/Asap/Asap-Regular.ttf                   2017-11-15 09:11:34        67576\n",
            "google/Asap/Asap-SemiBold.ttf                  2017-11-15 09:11:34        67984\n",
            "google/Asap/OFL.txt                            2017-11-15 09:11:34         4461\n",
            "google/Alegreya_Sans/                          2020-07-25 19:02:56            0\n",
            "google/Alegreya_Sans/AlegreyaSans-Medium.ttf   2017-11-15 09:11:36       298416\n",
            "google/Alegreya_Sans/AlegreyaSans-Light.ttf    2017-11-15 09:11:36       294784\n",
            "google/Alegreya_Sans/AlegreyaSans-Regular.ttf  2017-11-15 09:11:36       297264\n",
            "google/Alegreya_Sans/AlegreyaSans-Black.ttf    2017-11-15 09:11:36       305352\n",
            "google/Alegreya_Sans/OFL.txt                   2017-11-15 09:11:36         4498\n",
            "google/Alegreya_Sans/AlegreyaSans-ExtraBold.ttf 2017-11-15 09:11:36       304100\n",
            "google/Alegreya_Sans/AlegreyaSans-Bold.ttf     2017-11-15 09:11:36       301292\n",
            "google/Alegreya_Sans/AlegreyaSans-Thin.ttf     2017-11-15 09:11:36       278864\n",
            "google/Arima_Madurai/                          2017-11-15 09:11:34            0\n",
            "google/Arima_Madurai/ArimaMadurai-Bold.ttf     2017-11-15 09:11:34       120388\n",
            "google/Arima_Madurai/ArimaMadurai-ExtraLight.ttf 2017-11-15 09:11:34       121656\n",
            "google/Arima_Madurai/ArimaMadurai-Regular.ttf  2017-11-15 09:11:34       121592\n",
            "google/Arima_Madurai/ArimaMadurai-Light.ttf    2017-11-15 09:11:34       120760\n",
            "google/Arima_Madurai/ArimaMadurai-Thin.ttf     2017-11-15 09:11:34       115868\n",
            "google/Arima_Madurai/ArimaMadurai-Medium.ttf   2017-11-15 09:11:34       121372\n",
            "google/Arima_Madurai/OFL.txt                   2017-11-15 09:11:34         4460\n",
            "google/Arima_Madurai/ArimaMadurai-Black.ttf    2017-11-15 09:11:34       120904\n",
            "google/Arima_Madurai/ArimaMadurai-ExtraBold.ttf 2017-11-15 09:11:34       120384\n",
            "google/Cormorant_Infant/                       2020-07-25 19:02:56            0\n",
            "google/Cormorant_Infant/CormorantInfant-Light.ttf 2017-11-15 09:11:30       870092\n",
            "google/Cormorant_Infant/CormorantInfant-Regular.ttf 2017-11-15 09:11:30       871352\n",
            "google/Cormorant_Infant/OFL.txt                2017-11-15 09:11:30         4507\n",
            "google/Cormorant_Infant/CormorantInfant-Bold.ttf 2017-11-15 09:11:30       877972\n",
            "google/Cormorant_Infant/CormorantInfant-Medium.ttf 2017-11-15 09:11:30       865844\n",
            "google/Cormorant_Infant/CormorantInfant-SemiBold.ttf 2017-11-15 09:11:30       893528\n",
            "google/Manuale/                                2020-07-25 19:02:56            0\n",
            "google/Manuale/Manuale-SemiBold.ttf            2017-11-15 09:11:38       175408\n",
            "google/Manuale/Manuale-Regular.ttf             2017-11-15 09:11:38       175944\n",
            "google/Manuale/Manuale-Bold.ttf                2017-11-15 09:11:38       172428\n",
            "google/Manuale/OFL.txt                         2017-11-15 09:11:38         4464\n",
            "google/Manuale/Manuale-Medium.ttf              2017-11-15 09:11:38       165472\n",
            "google/EB_Garamond/                            2017-11-15 09:11:32            0\n",
            "google/EB_Garamond/EBGaramond-Regular.ttf      2017-11-15 09:11:32       231904\n",
            "google/EB_Garamond/OFL.txt                     2017-11-15 09:11:32         4464\n",
            "google/Fira_Sans/                              2020-07-25 19:02:56            0\n",
            "google/Fira_Sans/FiraSans-Thin.ttf             2017-11-15 09:11:46       442852\n",
            "google/Fira_Sans/FiraSans-Medium.ttf           2017-11-15 09:11:46       457248\n",
            "google/Fira_Sans/FiraSans-Bold.ttf             2017-11-15 09:11:46       489720\n",
            "google/Fira_Sans/FiraSans-ExtraLight.ttf       2017-11-15 09:11:46       447324\n",
            "google/Fira_Sans/FiraSans-Light.ttf            2017-11-15 09:11:46       449660\n",
            "google/Fira_Sans/FiraSans-Black.ttf            2017-11-15 09:11:46       507204\n",
            "google/Fira_Sans/OFL.txt                       2017-11-15 09:11:46         4464\n",
            "google/Fira_Sans/FiraSans-ExtraBold.ttf        2017-11-15 09:11:46       497028\n",
            "google/Fira_Sans/FiraSans-SemiBold.ttf         2017-11-15 09:11:46       489028\n",
            "google/Fira_Sans/FiraSans-Regular.ttf          2017-11-15 09:11:46       456996\n",
            "google/Yanone_Kaffeesatz/                      2017-11-15 09:11:38            0\n",
            "google/Yanone_Kaffeesatz/YanoneKaffeesatz-ExtraLight.ttf 2017-11-15 09:11:38        97664\n",
            "google/Yanone_Kaffeesatz/YanoneKaffeesatz-Bold.ttf 2017-11-15 09:11:38       116096\n",
            "google/Yanone_Kaffeesatz/OFL.txt               2017-11-15 09:11:38         4467\n",
            "google/Yanone_Kaffeesatz/YanoneKaffeesatz-Light.ttf 2017-11-15 09:11:38       112472\n",
            "google/Yanone_Kaffeesatz/YanoneKaffeesatz-Regular.ttf 2017-11-15 09:11:38       114376\n",
            "google/Prata/                                  2017-11-15 09:11:42            0\n",
            "google/Prata/Prata-Regular.ttf                 2017-11-15 09:11:42       101284\n",
            "google/Prata/OFL.txt                           2017-11-15 09:11:42         4393\n",
            "google/Quicksand/                              2017-11-15 09:11:36            0\n",
            "google/Quicksand/Quicksand-Bold.ttf            2017-11-15 09:11:36       107584\n",
            "google/Quicksand/Quicksand-Medium.ttf          2017-11-15 09:11:36       106468\n",
            "google/Quicksand/Quicksand-Regular.ttf         2017-11-15 09:11:36       107196\n",
            "google/Quicksand/OFL.txt                       2017-11-15 09:11:36         4538\n",
            "google/Quicksand/Quicksand-Light.ttf           2017-11-15 09:11:36       109060\n",
            "google/Francois_One/                           2017-11-15 09:11:30            0\n",
            "google/Francois_One/FrancoisOne-Regular.ttf    2017-11-15 09:11:30        79356\n",
            "google/Francois_One/OFL.txt                    2017-11-15 09:11:30         4469\n",
            "google/Cabin_Condensed/                        2017-11-15 09:11:30            0\n",
            "google/Cabin_Condensed/CabinCondensed-Bold.ttf 2017-11-15 09:11:30        97876\n",
            "google/Cabin_Condensed/CabinCondensed-SemiBold.ttf 2017-11-15 09:11:30        98996\n",
            "google/Cabin_Condensed/OFL.txt                 2017-11-15 09:11:30         4459\n",
            "google/Cabin_Condensed/CabinCondensed-Medium.ttf 2017-11-15 09:11:30        98504\n",
            "google/Cabin_Condensed/CabinCondensed-Regular.ttf 2017-11-15 09:11:30        99468\n",
            "google/Rokkitt/                                2017-11-15 09:11:42            0\n",
            "google/Rokkitt/Rokkitt-Bold.ttf                2017-11-15 09:11:42        88868\n",
            "google/Rokkitt/Rokkitt-Thin.ttf                2017-11-15 09:11:42        82600\n",
            "google/Rokkitt/Rokkitt-ExtraBold.ttf           2017-11-15 09:11:42        89552\n",
            "google/Rokkitt/Rokkitt-Black.ttf               2017-11-15 09:11:42        90364\n",
            "google/Rokkitt/Rokkitt-Medium.ttf              2017-11-15 09:11:42        87492\n",
            "google/Rokkitt/Rokkitt-Regular.ttf             2017-11-15 09:11:42        86920\n",
            "google/Rokkitt/Rokkitt-ExtraLight.ttf          2017-11-15 09:11:42        83904\n",
            "google/Rokkitt/OFL.txt                         2017-11-15 09:11:42         4463\n",
            "google/Rokkitt/Rokkitt-Light.ttf               2017-11-15 09:11:42        83320\n",
            "google/Rokkitt/Rokkitt-SemiBold.ttf            2017-11-15 09:11:42        87960\n",
            "google/Itim/                                   2017-11-15 09:11:42            0\n",
            "google/Itim/Itim-Regular.ttf                   2017-11-15 09:11:42       371384\n",
            "google/Itim/OFL.txt                            2017-11-15 09:11:42         4529\n",
            "google/Arsenal/                                2020-07-25 19:02:56            0\n",
            "google/Arsenal/Arsenal-Regular.ttf             2017-11-15 09:11:34       194396\n",
            "google/Arsenal/Arsenal-Bold.ttf                2017-11-15 09:11:34       200088\n",
            "google/Arsenal/OFL.txt                         2017-11-15 09:11:34         4465\n",
            "google/Space_Mono/                             2020-07-25 19:02:56            0\n",
            "google/Space_Mono/SpaceMono-Regular.ttf        2017-11-15 09:11:40        93252\n",
            "google/Space_Mono/SpaceMono-Bold.ttf           2017-11-15 09:11:40        89020\n",
            "google/Space_Mono/OFL.txt                      2017-11-15 09:11:40         4444\n",
            "google/Bungee_Outline/                         2017-11-15 09:11:32            0\n",
            "google/Bungee_Outline/BungeeOutline-Regular.ttf 2017-11-15 09:11:32       238148\n",
            "google/Bungee_Outline/OFL.txt                  2017-11-15 09:11:32         4454\n",
            "google/Arimo/                                  2020-07-25 19:02:56            0\n",
            "google/Arimo/Arimo-Bold.ttf                    2017-11-15 09:11:34       438516\n",
            "google/Arimo/Arimo-Regular.ttf                 2017-11-15 09:11:34       436180\n",
            "google/Arimo/LICENSE.txt                       2017-11-15 09:11:34        11560\n",
            "google/David_Libre/                            2017-11-15 09:11:32            0\n",
            "google/David_Libre/DavidLibre-Bold.ttf         2017-11-15 09:11:32       119020\n",
            "google/David_Libre/OFL.txt                     2017-11-15 09:11:32         4730\n",
            "google/David_Libre/DavidLibre-Regular.ttf      2017-11-15 09:11:32       114556\n",
            "google/David_Libre/DavidLibre-Medium.ttf       2017-11-15 09:11:32       115488\n",
            "google/Lalezar/                                2017-11-15 09:11:36            0\n",
            "google/Lalezar/OFL.txt                         2017-11-15 09:11:36         4447\n",
            "google/Lalezar/Lalezar-Regular.ttf             2017-11-15 09:11:36       292656\n",
            "google/Baloo_Chettan/                          2017-11-15 09:11:28            0\n",
            "google/Baloo_Chettan/BalooChettan-Regular.ttf  2017-11-15 09:11:28       336156\n",
            "google/Baloo_Chettan/OFL.txt                   2017-11-15 09:11:28         4439\n",
            "google/Lobster/                                2017-11-15 09:11:38            0\n",
            "google/Lobster/OFL.txt                         2017-11-15 09:11:38         4582\n",
            "google/Lobster/Lobster-Regular.ttf             2017-11-15 09:11:38       429716\n",
            "google/Baloo_Thambi/                           2017-11-15 09:11:34            0\n",
            "google/Baloo_Thambi/BalooThambi-Regular.ttf    2017-11-15 09:11:34       322264\n",
            "google/Baloo_Thambi/OFL.txt                    2017-11-15 09:11:34         4439\n",
            "google/Anton/                                  2017-11-15 09:11:34            0\n",
            "google/Anton/Anton-Regular.ttf                 2017-11-15 09:11:34        79396\n",
            "google/Anton/OFL.txt                           2017-11-15 09:11:34         4437\n",
            "google/Saira/                                  2017-11-15 09:11:40            0\n",
            "google/Saira/Saira-Medium.ttf                  2017-11-15 09:11:40        95672\n",
            "google/Saira/Saira-Light.ttf                   2017-11-15 09:11:40        94968\n",
            "google/Saira/Saira-Regular.ttf                 2017-11-15 09:11:40        94852\n",
            "google/Saira/Saira-ExtraLight.ttf              2017-11-15 09:11:40       103816\n",
            "google/Saira/OFL.txt                           2017-11-15 09:11:40         4496\n",
            "google/Saira/Saira-Black.ttf                   2017-11-15 09:11:40        96760\n",
            "google/Saira/Saira-SemiBold.ttf                2017-11-15 09:11:40        97128\n",
            "google/Saira/Saira-Thin.ttf                    2017-11-15 09:11:40        92956\n",
            "google/Saira/Saira-Bold.ttf                    2017-11-15 09:11:40        97336\n",
            "google/Saira/Saira-ExtraBold.ttf               2017-11-15 09:11:40       110184\n",
            "google/Exo/                                    2020-07-25 19:02:56            0\n",
            "google/Exo/Exo-Thin.ttf                        2017-11-15 09:11:38       110548\n",
            "google/Exo/Exo-Regular.ttf                     2017-11-15 09:11:38       110068\n",
            "google/Exo/Exo-Medium.ttf                      2017-11-15 09:11:38       109732\n",
            "google/Exo/Exo-Bold.ttf                        2017-11-15 09:11:38       109352\n",
            "google/Exo/Exo-SemiBold.ttf                    2017-11-15 09:11:38       109652\n",
            "google/Exo/Exo-Light.ttf                       2017-11-15 09:11:38       110284\n",
            "google/Exo/Exo-ExtraLight.ttf                  2017-11-15 09:11:38       110660\n",
            "google/Exo/Exo-Black.ttf                       2017-11-15 09:11:38       109388\n",
            "google/Exo/OFL.txt                             2017-11-15 09:11:38         4474\n",
            "google/Exo/Exo-ExtraBold.ttf                   2017-11-15 09:11:38       109264\n",
            "google/Pangolin/                               2017-11-15 09:11:42            0\n",
            "google/Pangolin/Pangolin-Regular.ttf           2017-11-15 09:11:42       592688\n",
            "google/Pangolin/OFL.txt                        2017-11-15 09:11:42         4482\n",
            "google/Philosopher/                            2020-07-25 19:02:56            0\n",
            "google/Philosopher/Philosopher-Bold.ttf        2017-11-15 09:11:42       113608\n",
            "google/Philosopher/Philosopher-Regular.ttf     2017-11-15 09:11:42       115544\n",
            "google/Philosopher/OFL.txt                     2017-11-15 09:11:42         4464\n",
            "google/Saira_Semi_Condensed/                   2017-11-15 09:11:40            0\n",
            "google/Saira_Semi_Condensed/SairaSemiCondensed-Black.ttf 2017-11-15 09:11:40        97020\n",
            "google/Saira_Semi_Condensed/SairaSemiCondensed-Medium.ttf 2017-11-15 09:11:40        95548\n",
            "google/Saira_Semi_Condensed/SairaSemiCondensed-Bold.ttf 2017-11-15 09:11:40        96500\n",
            "google/Saira_Semi_Condensed/SairaSemiCondensed-Thin.ttf 2017-11-15 09:11:40        92828\n",
            "google/Saira_Semi_Condensed/SairaSemiCondensed-Regular.ttf 2017-11-15 09:11:40        95184\n",
            "google/Saira_Semi_Condensed/SairaSemiCondensed-ExtraBold.ttf 2017-11-15 09:11:40        97340\n",
            "google/Saira_Semi_Condensed/SairaSemiCondensed-ExtraLight.ttf 2017-11-15 09:11:40        93336\n",
            "google/Saira_Semi_Condensed/SairaSemiCondensed-SemiBold.ttf 2017-11-15 09:11:40        96160\n",
            "google/Saira_Semi_Condensed/OFL.txt            2017-11-15 09:11:40         4496\n",
            "google/Saira_Semi_Condensed/SairaSemiCondensed-Light.ttf 2017-11-15 09:11:40        95612\n",
            "google/Comfortaa/                              2017-11-15 09:11:32            0\n",
            "google/Comfortaa/Comfortaa-Light.ttf           2017-11-15 09:11:32       138108\n",
            "google/Comfortaa/OFL.txt                       2017-11-15 09:11:32         4499\n",
            "google/Comfortaa/Comfortaa-Regular.ttf         2017-11-15 09:11:32       137608\n",
            "google/Comfortaa/Comfortaa-Bold.ttf            2017-11-15 09:11:32       137696\n",
            "google/Pridi/                                  2017-11-15 09:11:44            0\n",
            "google/Pridi/Pridi-Regular.ttf                 2017-11-15 09:11:44       222368\n",
            "google/Pridi/Pridi-Bold.ttf                    2017-11-15 09:11:44       212956\n",
            "google/Pridi/OFL.txt                           2017-11-15 09:11:44         4452\n",
            "google/Pridi/Pridi-Medium.ttf                  2017-11-15 09:11:44       225316\n",
            "google/Pridi/Pridi-ExtraLight.ttf              2017-11-15 09:11:44       188316\n",
            "google/Pridi/Pridi-Light.ttf                   2017-11-15 09:11:44       211748\n",
            "google/Pridi/Pridi-SemiBold.ttf                2017-11-15 09:11:44       220084\n",
            "google/Spectral/                               2020-07-25 19:02:56            0\n",
            "google/Spectral/Spectral-ExtraLight.ttf        2017-11-15 09:11:40       167484\n",
            "google/Spectral/Spectral-ExtraBold.ttf         2017-11-15 09:11:40       186484\n",
            "google/Spectral/Spectral-Medium.ttf            2017-11-15 09:11:40       193576\n",
            "google/Spectral/Spectral-Regular.ttf           2017-11-15 09:11:40       182748\n",
            "google/Spectral/Spectral-SemiBold.ttf          2017-11-15 09:11:40       189524\n",
            "google/Spectral/OFL.txt                        2017-11-15 09:11:40         4453\n",
            "google/Spectral/Spectral-Bold.ttf              2017-11-15 09:11:40       191476\n",
            "google/Spectral/Spectral-Light.ttf             2017-11-15 09:11:40       181676\n",
            "google/Asap_Condensed/                         2020-07-25 19:02:56            0\n",
            "google/Asap_Condensed/AsapCondensed-SemiBold.ttf 2017-11-15 09:11:34       151132\n",
            "google/Asap_Condensed/AsapCondensed-Regular.ttf 2017-11-15 09:11:34       143932\n",
            "google/Asap_Condensed/AsapCondensed-Medium.ttf 2017-11-15 09:11:34       148844\n",
            "google/Asap_Condensed/OFL.txt                  2017-11-15 09:11:34         4506\n",
            "google/Asap_Condensed/AsapCondensed-Bold.ttf   2017-11-15 09:11:34       152536\n",
            "google/Open_Sans_Condensed/                    2020-07-25 19:02:56            0\n",
            "google/Open_Sans_Condensed/OpenSansCondensed-Bold.ttf 2017-11-15 09:11:42       264856\n",
            "google/Open_Sans_Condensed/LICENSE.txt         2017-11-15 09:11:42        11560\n",
            "google/Open_Sans_Condensed/OpenSansCondensed-Light.ttf 2017-11-15 09:11:42       220940\n",
            "google/Bungee_Inline/                          2017-11-15 09:11:36            0\n",
            "google/Bungee_Inline/BungeeInline-Regular.ttf  2017-11-15 09:11:36       176392\n",
            "google/Bungee_Inline/OFL.txt                   2017-11-15 09:11:36         4454\n",
            "google/Cuprum/                                 2020-07-25 19:02:56            0\n",
            "google/Cuprum/OFL.txt                          2017-11-15 09:11:42         4494\n",
            "google/Cuprum/Cuprum-Bold.ttf                  2017-11-15 09:11:42       106376\n",
            "google/Cuprum/Cuprum-Regular.ttf               2017-11-15 09:11:42       106260\n",
            "google/Baloo_Tamma/                            2017-11-15 09:11:28            0\n",
            "google/Baloo_Tamma/BalooTamma-Regular.ttf      2017-11-15 09:11:30       797016\n",
            "google/Baloo_Tamma/OFL.txt                     2017-11-15 09:11:28         4439\n",
            "google/Cousine/                                2020-07-25 19:02:56            0\n",
            "google/Cousine/Cousine-Bold.ttf                2017-11-15 09:11:28       296624\n",
            "google/Cousine/Cousine-Regular.ttf             2017-11-15 09:11:28       308360\n",
            "google/Cousine/LICENSE.txt                     2017-11-15 09:11:28        11560\n",
            "google/Cormorant_Unicase/                      2017-11-15 09:11:40            0\n",
            "google/Cormorant_Unicase/CormorantUnicase-Medium.ttf 2017-11-15 09:11:40       768408\n",
            "google/Cormorant_Unicase/CormorantUnicase-Bold.ttf 2017-11-15 09:11:40       770236\n",
            "google/Cormorant_Unicase/CormorantUnicase-SemiBold.ttf 2017-11-15 09:11:40       772140\n",
            "google/Cormorant_Unicase/CormorantUnicase-Regular.ttf 2017-11-15 09:11:40       770540\n",
            "google/Cormorant_Unicase/CormorantUnicase-Light.ttf 2017-11-15 09:11:40       770672\n",
            "google/Cormorant_Unicase/OFL.txt               2017-11-15 09:11:40         4507\n",
            "google/Maven_Pro/                              2017-11-15 09:11:44            0\n",
            "google/Maven_Pro/MavenPro-Black.ttf            2017-11-15 09:11:44        95584\n",
            "google/Maven_Pro/MavenPro-Regular.ttf          2017-11-15 09:11:44        86104\n",
            "google/Maven_Pro/OFL.txt                       2017-11-15 09:11:44         4515\n",
            "google/Maven_Pro/MavenPro-Medium.ttf           2017-11-15 09:11:44        89208\n",
            "google/Maven_Pro/MavenPro-Bold.ttf             2017-11-15 09:11:44        90060\n",
            "google/Josefin_Sans/                           2020-07-25 19:02:56            0\n",
            "google/Josefin_Sans/JosefinSans-Thin.ttf       2017-11-15 09:11:36        88088\n",
            "google/Josefin_Sans/JosefinSans-Bold.ttf       2017-11-15 09:11:36        86300\n",
            "google/Josefin_Sans/JosefinSans-Light.ttf      2017-11-15 09:11:36        87320\n",
            "google/Josefin_Sans/JosefinSans-SemiBold.ttf   2017-11-15 09:11:36        87880\n",
            "google/Josefin_Sans/JosefinSans-Regular.ttf    2017-11-15 09:11:36        87260\n",
            "google/Josefin_Sans/OFL.txt                    2017-11-15 09:11:36         4449\n",
            "google/Roboto_Slab/                            2017-11-15 09:11:40            0\n",
            "google/Roboto_Slab/RobotoSlab-Thin.ttf         2017-11-15 09:11:40       181156\n",
            "google/Roboto_Slab/RobotoSlab-Bold.ttf         2017-11-15 09:11:40       170616\n",
            "google/Roboto_Slab/RobotoSlab-Light.ttf        2017-11-15 09:11:40       179096\n",
            "google/Roboto_Slab/LICENSE.txt                 2017-11-15 09:11:40        11560\n",
            "google/Roboto_Slab/RobotoSlab-Regular.ttf      2017-11-15 09:11:40       169064\n",
            "google/Cabin/                                  2020-07-25 19:02:56            0\n",
            "google/Cabin/Cabin-Medium.ttf                  2017-11-15 09:11:38       105060\n",
            "google/Cabin/Cabin-SemiBold.ttf                2017-11-15 09:11:38       104932\n",
            "google/Cabin/Cabin-Regular.ttf                 2017-11-15 09:11:38       104776\n",
            "google/Cabin/OFL.txt                           2017-11-15 09:11:38         4459\n",
            "google/Cabin/Cabin-Bold.ttf                    2017-11-15 09:11:38       102476\n",
            "google/Alegreya_Sans_SC/                       2020-07-25 19:02:56            0\n",
            "google/Alegreya_Sans_SC/AlegreyaSansSC-Thin.ttf 2017-11-15 09:11:28       262288\n",
            "google/Alegreya_Sans_SC/AlegreyaSansSC-Regular.ttf 2017-11-15 09:11:28       276520\n",
            "google/Alegreya_Sans_SC/AlegreyaSansSC-Light.ttf 2017-11-15 09:11:28       269280\n",
            "google/Alegreya_Sans_SC/AlegreyaSansSC-Bold.ttf 2017-11-15 09:11:28       288908\n",
            "google/Alegreya_Sans_SC/AlegreyaSansSC-Medium.ttf 2017-11-15 09:11:28       277632\n",
            "google/Alegreya_Sans_SC/OFL.txt                2017-11-15 09:11:28         4498\n",
            "google/Alegreya_Sans_SC/AlegreyaSansSC-Black.ttf 2017-11-15 09:11:28       283944\n",
            "google/Alegreya_Sans_SC/AlegreyaSansSC-ExtraBold.ttf 2017-11-15 09:11:28       295048\n",
            "google/Inconsolata/                            2017-11-15 09:11:34            0\n",
            "google/Inconsolata/Inconsolata-Bold.ttf        2017-11-15 09:11:34       109948\n",
            "google/Inconsolata/OFL.txt                     2017-11-15 09:11:34         4443\n",
            "google/Inconsolata/Inconsolata-Regular.ttf     2017-11-15 09:11:34        96964\n",
            "google/Cormorant_Upright/                      2017-11-15 09:11:34            0\n",
            "google/Cormorant_Upright/CormorantUpright-SemiBold.ttf 2017-11-15 09:11:34       225072\n",
            "google/Cormorant_Upright/CormorantUpright-Bold.ttf 2017-11-15 09:11:34       224088\n",
            "google/Cormorant_Upright/OFL.txt               2017-11-15 09:11:34         4507\n",
            "google/Cormorant_Upright/CormorantUpright-Regular.ttf 2017-11-15 09:11:34       222732\n",
            "google/Cormorant_Upright/CormorantUpright-Light.ttf 2017-11-15 09:11:34       221976\n",
            "google/Cormorant_Upright/CormorantUpright-Medium.ttf 2017-11-15 09:11:34       222716\n",
            "google/Encode_Sans_Expanded/                   2017-11-15 09:11:46            0\n",
            "google/Encode_Sans_Expanded/EncodeSansExpanded-ExtraLight.ttf 2017-11-15 09:11:46       165756\n",
            "google/Encode_Sans_Expanded/EncodeSansExpanded-SemiBold.ttf 2017-11-15 09:11:46       170192\n",
            "google/Encode_Sans_Expanded/EncodeSansExpanded-Black.ttf 2017-11-15 09:11:46       167952\n",
            "google/Encode_Sans_Expanded/EncodeSansExpanded-Regular.ttf 2017-11-15 09:11:46       167656\n",
            "google/Encode_Sans_Expanded/EncodeSansExpanded-Medium.ttf 2017-11-15 09:11:46       169304\n",
            "google/Encode_Sans_Expanded/EncodeSansExpanded-ExtraBold.ttf 2017-11-15 09:11:46       169472\n",
            "google/Encode_Sans_Expanded/OFL.txt            2017-11-15 09:11:46         4502\n",
            "google/Encode_Sans_Expanded/EncodeSansExpanded-Light.ttf 2017-11-15 09:11:46       168292\n",
            "google/Encode_Sans_Expanded/EncodeSansExpanded-Thin.ttf 2017-11-15 09:11:46       164156\n",
            "google/Encode_Sans_Expanded/EncodeSansExpanded-Bold.ttf 2017-11-15 09:11:46       168296\n",
            "google/Patrick_Hand/                           2017-11-15 09:11:42            0\n",
            "google/Patrick_Hand/PatrickHand-Regular.ttf    2017-11-15 09:11:42       214772\n",
            "google/Patrick_Hand/OFL.txt                    2017-11-15 09:11:42         4469\n",
            "google/Cormorant_SC/                           2017-11-15 09:11:36            0\n",
            "google/Cormorant_SC/CormorantSC-Medium.ttf     2017-11-15 09:11:36       765496\n",
            "google/Cormorant_SC/CormorantSC-Bold.ttf       2017-11-15 09:11:36       765824\n",
            "google/Cormorant_SC/CormorantSC-Light.ttf      2017-11-15 09:11:36       768004\n",
            "google/Cormorant_SC/OFL.txt                    2017-11-15 09:11:36         4507\n",
            "google/Cormorant_SC/CormorantSC-Regular.ttf    2017-11-15 09:11:36       767232\n",
            "google/Cormorant_SC/CormorantSC-SemiBold.ttf   2017-11-15 09:11:36       766944\n",
            "google/Varela_Round/                           2017-11-15 09:11:40            0\n",
            "google/Varela_Round/OFL.txt                    2017-11-15 09:11:40         4563\n",
            "google/Varela_Round/VarelaRound-Regular.ttf    2017-11-15 09:11:40       135132\n",
            "google/Oswald/                                 2017-11-15 09:11:46            0\n",
            "google/Oswald/Oswald-Bold.ttf                  2017-11-15 09:11:46        92964\n",
            "google/Oswald/Oswald-SemiBold.ttf              2017-11-15 09:11:46        94340\n",
            "google/Oswald/Oswald-Medium.ttf                2017-11-15 09:11:46        92796\n",
            "google/Oswald/Oswald-Regular.ttf               2017-11-15 09:11:46        92244\n",
            "google/Oswald/OFL.txt                          2017-11-15 09:11:46         4463\n",
            "google/Oswald/Oswald-ExtraLight.ttf            2017-11-15 09:11:46        89760\n",
            "google/Oswald/Oswald-Light.ttf                 2017-11-15 09:11:46        90808\n",
            "google/Prompt/                                 2020-07-25 19:02:56            0\n",
            "google/Prompt/Prompt-ExtraLight.ttf            2017-11-15 09:11:34       163704\n",
            "google/Prompt/Prompt-Medium.ttf                2017-11-15 09:11:34       176468\n",
            "google/Prompt/Prompt-Light.ttf                 2017-11-15 09:11:34       162004\n",
            "google/Prompt/Prompt-ExtraBold.ttf             2017-11-15 09:11:34       176196\n",
            "google/Prompt/Prompt-Thin.ttf                  2017-11-15 09:11:34       164480\n",
            "google/Prompt/Prompt-Bold.ttf                  2017-11-15 09:11:34       178828\n",
            "google/Prompt/Prompt-SemiBold.ttf              2017-11-15 09:11:34       175324\n",
            "google/Prompt/Prompt-Regular.ttf               2017-11-15 09:11:34       168912\n",
            "google/Prompt/OFL.txt                          2017-11-15 09:11:34         4452\n",
            "google/Prompt/Prompt-Black.ttf                 2017-11-15 09:11:34       176412\n",
            "google/Encode_Sans/                            2017-11-15 09:11:36            0\n",
            "google/Encode_Sans/EncodeSans-Medium.ttf       2017-11-15 09:11:36       169344\n",
            "google/Encode_Sans/EncodeSans-Regular.ttf      2017-11-15 09:11:36       169344\n",
            "google/Encode_Sans/EncodeSans-Bold.ttf         2017-11-15 09:11:36       169180\n",
            "google/Encode_Sans/EncodeSans-Thin.ttf         2017-11-15 09:11:36       163020\n",
            "google/Encode_Sans/EncodeSans-ExtraLight.ttf   2017-11-15 09:11:36       166276\n",
            "google/Encode_Sans/EncodeSans-Light.ttf        2017-11-15 09:11:36       168036\n",
            "google/Encode_Sans/EncodeSans-Black.ttf        2017-11-15 09:11:36       167288\n",
            "google/Encode_Sans/EncodeSans-SemiBold.ttf     2017-11-15 09:11:36       170532\n",
            "google/Encode_Sans/OFL.txt                     2017-11-15 09:11:36         4502\n",
            "google/Encode_Sans/EncodeSans-ExtraBold.ttf    2017-11-15 09:11:36       170784\n",
            "google/Encode_Sans_Semi_Condensed/             2017-11-15 09:11:28            0\n",
            "google/Encode_Sans_Semi_Condensed/EncodeSansSemiCondensed-Bold.ttf 2017-11-15 09:11:28       168628\n",
            "google/Encode_Sans_Semi_Condensed/EncodeSansSemiCondensed-Medium.ttf 2017-11-15 09:11:28       168888\n",
            "google/Encode_Sans_Semi_Condensed/EncodeSansSemiCondensed-Black.ttf 2017-11-15 09:11:28       167572\n",
            "google/Encode_Sans_Semi_Condensed/EncodeSansSemiCondensed-Thin.ttf 2017-11-15 09:11:28       162164\n",
            "google/Encode_Sans_Semi_Condensed/EncodeSansSemiCondensed-Regular.ttf 2017-11-15 09:11:28       170864\n",
            "google/Encode_Sans_Semi_Condensed/EncodeSansSemiCondensed-SemiBold.ttf 2017-11-15 09:11:28       171072\n",
            "google/Encode_Sans_Semi_Condensed/OFL.txt      2017-11-15 09:11:28         4502\n",
            "google/Encode_Sans_Semi_Condensed/EncodeSansSemiCondensed-ExtraLight.ttf 2017-11-15 09:11:28       166556\n",
            "google/Encode_Sans_Semi_Condensed/EncodeSansSemiCondensed-ExtraBold.ttf 2017-11-15 09:11:28       170384\n",
            "google/Encode_Sans_Semi_Condensed/EncodeSansSemiCondensed-Light.ttf 2017-11-15 09:11:28       168296\n",
            "google/Baloo_Tammudu/                          2017-11-15 09:11:32            0\n",
            "google/Baloo_Tammudu/BalooTammudu-Regular.ttf  2017-11-15 09:11:32       652392\n",
            "google/Baloo_Tammudu/OFL.txt                   2017-11-15 09:11:32         4439\n",
            "google/Noto_Sans/                              2020-07-25 19:02:56            0\n",
            "google/Noto_Sans/NotoSans-Regular.ttf          2017-11-15 09:11:42       414820\n",
            "google/Noto_Sans/NotoSans-Bold.ttf             2017-11-15 09:11:40       415132\n",
            "google/Noto_Sans/LICENSE.txt                   2017-11-15 09:11:40        11560\n",
            "google/Jura/                                   2017-11-15 09:11:46            0\n",
            "google/Jura/Jura-Light.ttf                     2017-11-15 09:11:46       177028\n",
            "google/Jura/Jura-Regular.ttf                   2017-11-15 09:11:46       179716\n",
            "google/Jura/OFL.txt                            2017-11-15 09:11:46         4469\n",
            "google/Jura/Jura-SemiBold.ttf                  2017-11-15 09:11:46       190448\n",
            "google/Jura/Jura-Bold.ttf                      2017-11-15 09:11:46       197196\n",
            "google/Jura/Jura-Medium.ttf                    2017-11-15 09:11:44       184808\n",
            "google/Baloo_Paaji/                            2017-11-15 09:11:32            0\n",
            "google/Baloo_Paaji/BalooPaaji-Regular.ttf      2017-11-15 09:11:32       272764\n",
            "google/Baloo_Paaji/OFL.txt                     2017-11-15 09:11:32         4439\n",
            "google/Athiti/                                 2017-11-15 09:11:32            0\n",
            "google/Athiti/Athiti-Bold.ttf                  2017-11-15 09:11:32       186588\n",
            "google/Athiti/Athiti-Medium.ttf                2017-11-15 09:11:32       182708\n",
            "google/Athiti/Athiti-Regular.ttf               2017-11-15 09:11:32       186984\n",
            "google/Athiti/Athiti-ExtraLight.ttf            2017-11-15 09:11:32       174908\n",
            "google/Athiti/Athiti-Light.ttf                 2017-11-15 09:11:32       178000\n",
            "google/Athiti/OFL.txt                          2017-11-15 09:11:32         4452\n",
            "google/Athiti/Athiti-SemiBold.ttf              2017-11-15 09:11:32       185348\n",
            "google/Vollkorn/                               2020-07-25 19:02:56            0\n",
            "google/Vollkorn/Vollkorn-Bold.ttf              2017-11-15 09:11:38       356428\n",
            "google/Vollkorn/Vollkorn-SemiBold.ttf          2017-11-15 09:11:38       356304\n",
            "google/Vollkorn/Vollkorn-Regular.ttf           2017-11-15 09:11:38       338892\n",
            "google/Vollkorn/Vollkorn-Black.ttf             2017-11-15 09:11:38       355776\n",
            "google/Vollkorn/OFL.txt                        2017-11-15 09:11:38         4490\n",
            "google/Montserrat/                             2020-07-25 19:02:56            0\n",
            "google/Montserrat/Montserrat-Medium.ttf        2017-11-15 09:11:44       192488\n",
            "google/Montserrat/Montserrat-Light.ttf         2017-11-15 09:11:44       192116\n",
            "google/Montserrat/Montserrat-ExtraLight.ttf    2017-11-15 09:11:44       196472\n",
            "google/Montserrat/Montserrat-Thin.ttf          2017-11-15 09:11:44       191468\n",
            "google/Montserrat/Montserrat-Bold.ttf          2017-11-15 09:11:44       191648\n",
            "google/Montserrat/Montserrat-SemiBold.ttf      2017-11-15 09:11:44       192268\n",
            "google/Montserrat/Montserrat-ExtraBold.ttf     2017-11-15 09:11:44       191644\n",
            "google/Montserrat/OFL.txt                      2017-11-15 09:11:44         4472\n",
            "google/Montserrat/Montserrat-Black.ttf         2017-11-15 09:11:44       194544\n",
            "google/Montserrat/Montserrat-Regular.ttf       2017-11-15 09:11:44       190648\n",
            "google/Chonburi/                               2017-11-15 09:11:40            0\n",
            "google/Chonburi/Chonburi-Regular.ttf           2017-11-15 09:11:40       170492\n",
            "google/Chonburi/OFL.txt                        2017-11-15 09:11:40         4452\n",
            "google/Open_Sans/                              2020-07-25 19:02:56            0\n",
            "google/Open_Sans/OpenSans-SemiBold.ttf         2017-11-15 09:11:44       221164\n",
            "google/Open_Sans/OpenSans-Light.ttf            2017-11-15 09:11:44       222236\n",
            "google/Open_Sans/OpenSans-ExtraBold.ttf        2017-11-15 09:11:44       222424\n",
            "google/Open_Sans/OpenSans-Bold.ttf             2017-11-15 09:11:44       224452\n",
            "google/Open_Sans/LICENSE.txt                   2017-11-15 09:11:44        11560\n",
            "google/Open_Sans/OpenSans-Regular.ttf          2017-11-15 09:11:44       217276\n",
            "google/Archivo/                                2020-07-25 19:02:56            0\n",
            "google/Archivo/Archivo-Regular.ttf             2017-11-15 09:11:46       114708\n",
            "google/Archivo/Archivo-SemiBold.ttf            2017-11-15 09:11:46       121088\n",
            "google/Archivo/Archivo-Medium.ttf              2017-11-15 09:11:46       119164\n",
            "google/Archivo/OFL.txt                         2017-11-15 09:11:46         4464\n",
            "google/Archivo/Archivo-Bold.ttf                2017-11-15 09:11:46       125016\n",
            "google/Saira_Condensed/                        2017-11-15 09:11:38            0\n",
            "google/Saira_Condensed/SairaCondensed-SemiBold.ttf 2017-11-15 09:11:38        96028\n",
            "google/Saira_Condensed/SairaCondensed-Light.ttf 2017-11-15 09:11:38        95044\n",
            "google/Saira_Condensed/SairaCondensed-Medium.ttf 2017-11-15 09:11:38        96240\n",
            "google/Saira_Condensed/SairaCondensed-Regular.ttf 2017-11-15 09:11:38        95068\n",
            "google/Saira_Condensed/SairaCondensed-Thin.ttf 2017-11-15 09:11:38        92424\n",
            "google/Saira_Condensed/OFL.txt                 2017-11-15 09:11:38         4496\n",
            "google/Saira_Condensed/SairaCondensed-Bold.ttf 2017-11-15 09:11:38        96428\n",
            "google/Saira_Condensed/SairaCondensed-Black.ttf 2017-11-15 09:11:38        96880\n",
            "google/Saira_Condensed/SairaCondensed-ExtraLight.ttf 2017-11-15 09:11:38        92824\n",
            "google/Saira_Condensed/SairaCondensed-ExtraBold.ttf 2017-11-15 09:11:38        96580\n",
            "google/Patrick_Hand_SC/                        2017-11-15 09:11:42            0\n",
            "google/Patrick_Hand_SC/PatrickHandSC-Regular.ttf 2017-11-15 09:11:42       152608\n",
            "google/Patrick_Hand_SC/OFL.txt                 2017-11-15 09:11:42         4469\n",
            "google/Kanit/                                  2020-07-25 19:02:56            0\n",
            "google/Kanit/Kanit-ExtraLight.ttf              2017-11-15 09:11:44       152740\n",
            "google/Kanit/Kanit-SemiBold.ttf                2017-11-15 09:11:44       162228\n",
            "google/Kanit/Kanit-Black.ttf                   2017-11-15 09:11:44       163532\n",
            "google/Kanit/Kanit-Regular.ttf                 2017-11-15 09:11:44       160304\n",
            "google/Kanit/Kanit-Thin.ttf                    2017-11-15 09:11:44       148944\n",
            "google/Kanit/Kanit-ExtraBold.ttf               2017-11-15 09:11:44       165912\n",
            "google/Kanit/Kanit-Bold.ttf                    2017-11-15 09:11:44       162864\n",
            "google/Kanit/OFL.txt                           2017-11-15 09:11:42         4452\n",
            "google/Kanit/Kanit-Light.ttf                   2017-11-15 09:11:42       157704\n",
            "google/Kanit/Kanit-Medium.ttf                  2017-11-15 09:11:44       163128\n",
            "google/Roboto/                                 2020-07-25 19:02:56            0\n",
            "google/Roboto/Roboto-Medium.ttf                2017-11-15 09:11:44       172064\n",
            "google/Roboto/Roboto-Light.ttf                 2017-11-15 09:11:44       170420\n",
            "google/Roboto/Roboto-Regular.ttf               2017-11-15 09:11:44       171676\n",
            "google/Roboto/LICENSE.txt                      2017-11-15 09:11:44        11560\n",
            "google/Roboto/Roboto-Bold.ttf                  2017-11-15 09:11:44       170760\n",
            "google/Roboto/Roboto-Thin.ttf                  2017-11-15 09:11:44       171904\n",
            "google/Roboto/Roboto-Black.ttf                 2017-11-15 09:11:44       171480\n",
            "google/Lora/                                   2020-07-25 19:02:56            0\n",
            "google/Lora/Lora-Bold.ttf                      2017-11-15 09:11:36       213840\n",
            "google/Lora/OFL.txt                            2017-11-15 09:11:36         4484\n",
            "google/Lora/Lora-Regular.ttf                   2017-11-15 09:11:36       199220\n",
            "google/Pacifico/                               2017-11-15 09:11:42            0\n",
            "google/Pacifico/OFL.txt                        2017-11-15 09:11:42         4465\n",
            "google/Pacifico/Pacifico-Regular.ttf           2017-11-15 09:11:42       196324\n",
            "google/Encode_Sans_Condensed/                  2017-11-15 09:11:46            0\n",
            "google/Encode_Sans_Condensed/EncodeSansCondensed-Regular.ttf 2017-11-15 09:11:46       168396\n",
            "google/Encode_Sans_Condensed/EncodeSansCondensed-SemiBold.ttf 2017-11-15 09:11:46       170560\n",
            "google/Encode_Sans_Condensed/EncodeSansCondensed-Thin.ttf 2017-11-15 09:11:46       161668\n",
            "google/Encode_Sans_Condensed/EncodeSansCondensed-Black.ttf 2017-11-15 09:11:46       166812\n",
            "google/Encode_Sans_Condensed/EncodeSansCondensed-Bold.ttf 2017-11-15 09:11:46       167844\n",
            "google/Encode_Sans_Condensed/EncodeSansCondensed-Medium.ttf 2017-11-15 09:11:46       169464\n",
            "google/Encode_Sans_Condensed/EncodeSansCondensed-Light.ttf 2017-11-15 09:11:46       168208\n",
            "google/Encode_Sans_Condensed/OFL.txt           2017-11-15 09:11:46         4502\n",
            "google/Encode_Sans_Condensed/EncodeSansCondensed-ExtraBold.ttf 2017-11-15 09:11:46       169456\n",
            "google/Encode_Sans_Condensed/EncodeSansCondensed-ExtraLight.ttf 2017-11-15 09:11:46       166844\n",
            "google/Bevan/                                  2017-11-15 09:11:32            0\n",
            "google/Bevan/OFL.txt                           2017-11-15 09:11:32         4458\n",
            "google/Bevan/Bevan-Regular.ttf                 2017-11-15 09:11:32        90500\n",
            "google/Fira_Sans_Extra_Condensed/              2020-07-25 19:02:56            0\n",
            "google/Fira_Sans_Extra_Condensed/FiraSansExtraCondensed-Light.ttf 2017-11-15 09:11:36       448908\n",
            "google/Fira_Sans_Extra_Condensed/FiraSansExtraCondensed-ExtraLight.ttf 2017-11-15 09:11:36       444636\n",
            "google/Fira_Sans_Extra_Condensed/OFL.txt       2017-11-15 09:11:36         4464\n",
            "google/Fira_Sans_Extra_Condensed/FiraSansExtraCondensed-Medium.ttf 2017-11-15 09:11:36       456568\n",
            "google/Fira_Sans_Extra_Condensed/FiraSansExtraCondensed-Thin.ttf 2017-11-15 09:11:36       440976\n",
            "google/Fira_Sans_Extra_Condensed/FiraSansExtraCondensed-Black.ttf 2017-11-15 09:11:36       516808\n",
            "google/Fira_Sans_Extra_Condensed/FiraSansExtraCondensed-Regular.ttf 2017-11-15 09:11:36       455820\n",
            "google/Fira_Sans_Extra_Condensed/FiraSansExtraCondensed-ExtraBold.ttf 2017-11-15 09:11:36       498256\n",
            "google/Fira_Sans_Extra_Condensed/FiraSansExtraCondensed-Bold.ttf 2017-11-15 09:11:36       496872\n",
            "google/Fira_Sans_Extra_Condensed/FiraSansExtraCondensed-SemiBold.ttf 2017-11-15 09:11:36       484956\n",
            "google/Source_Sans_Pro/                        2020-07-25 19:02:56            0\n",
            "google/Source_Sans_Pro/SourceSansPro-Regular.ttf 2017-11-15 09:11:32       293516\n",
            "google/Source_Sans_Pro/SourceSansPro-Bold.ttf  2017-11-15 09:11:32       290916\n",
            "google/Source_Sans_Pro/SourceSansPro-Light.ttf 2017-11-15 09:11:30       292680\n",
            "google/Source_Sans_Pro/SourceSansPro-Black.ttf 2017-11-15 09:11:30       288824\n",
            "google/Source_Sans_Pro/OFL.txt                 2017-11-15 09:11:30         4513\n",
            "google/Source_Sans_Pro/SourceSansPro-ExtraLight.ttf 2017-11-15 09:11:32       291112\n",
            "google/Source_Sans_Pro/SourceSansPro-SemiBold.ttf 2017-11-15 09:11:30       291864\n",
            "google/Noticia_Text/                           2020-07-25 19:02:56            0\n",
            "google/Noticia_Text/NoticiaText-Regular.ttf    2017-11-15 09:11:34       115288\n",
            "google/Noticia_Text/OFL.txt                    2017-11-15 09:11:34         4500\n",
            "google/Noticia_Text/NoticiaText-Bold.ttf       2017-11-15 09:11:34       113244\n",
            "google/Judson/                                 2020-07-25 19:02:56            0\n",
            "google/Judson/OFL.txt                          2017-11-15 09:11:32         4472\n",
            "google/Judson/Judson-Bold.ttf                  2017-11-15 09:11:32       195504\n",
            "google/Judson/Judson-Regular.ttf               2017-11-15 09:11:32       220844\n",
            "google/Bangers/                                2017-11-15 09:11:32            0\n",
            "google/Bangers/Bangers-Regular.ttf             2017-11-15 09:11:32       100928\n",
            "google/Bangers/OFL.txt                         2017-11-15 09:11:32         4499\n",
            "google/Sigmar_One/                             2017-11-15 09:11:38            0\n",
            "google/Sigmar_One/SigmarOne-Regular.ttf        2017-11-15 09:11:38       172512\n",
            "google/Sigmar_One/OFL.txt                      2017-11-15 09:11:38         4467\n",
            "google/Faustina/                               2020-07-25 19:02:56            0\n",
            "google/Faustina/Faustina-Medium.ttf            2017-11-15 09:11:32       155980\n",
            "google/Faustina/Faustina-SemiBold.ttf          2017-11-15 09:11:34       168804\n",
            "google/Faustina/OFL.txt                        2017-11-15 09:11:34         4465\n",
            "google/Faustina/Faustina-Regular.ttf           2017-11-15 09:11:34       153496\n",
            "google/Faustina/Faustina-Bold.ttf              2017-11-15 09:11:32       169884\n",
            "google/Fira_Sans_Condensed/                    2020-07-25 19:02:56            0\n",
            "google/Fira_Sans_Condensed/FiraSansCondensed-Black.ttf 2017-11-15 09:11:34       516292\n",
            "google/Fira_Sans_Condensed/FiraSansCondensed-Regular.ttf 2017-11-15 09:11:34       459804\n",
            "google/Fira_Sans_Condensed/FiraSansCondensed-ExtraBold.ttf 2017-11-15 09:11:34       498104\n",
            "google/Fira_Sans_Condensed/FiraSansCondensed-Medium.ttf 2017-11-15 09:11:34       456428\n",
            "google/Fira_Sans_Condensed/FiraSansCondensed-Bold.ttf 2017-11-15 09:11:34       489176\n",
            "google/Fira_Sans_Condensed/FiraSansCondensed-Thin.ttf 2017-11-15 09:11:34       441652\n",
            "google/Fira_Sans_Condensed/OFL.txt             2017-11-15 09:11:34         4464\n",
            "google/Fira_Sans_Condensed/FiraSansCondensed-SemiBold.ttf 2017-11-15 09:11:34       488728\n",
            "google/Fira_Sans_Condensed/FiraSansCondensed-Light.ttf 2017-11-15 09:11:34       450556\n",
            "google/Fira_Sans_Condensed/FiraSansCondensed-ExtraLight.ttf 2017-11-15 09:11:34       445948\n",
            "google/Coiny/                                  2017-11-15 09:11:36            0\n",
            "google/Coiny/Coiny-Regular.ttf                 2017-11-15 09:11:36       156520\n",
            "google/Coiny/OFL.txt                           2017-11-15 09:11:36         4464\n",
            "google/Alfa_Slab_One/                          2017-11-15 09:11:42            0\n",
            "google/Alfa_Slab_One/AlfaSlabOne-Regular.ttf   2017-11-15 09:11:42        97376\n",
            "google/Alfa_Slab_One/OFL.txt                   2017-11-15 09:11:42         4523\n",
            "google/Mitr/                                   2017-11-15 09:11:42            0\n",
            "google/Mitr/Mitr-Regular.ttf                   2017-11-15 09:11:42       222416\n",
            "google/Mitr/Mitr-Bold.ttf                      2017-11-15 09:11:42       224432\n",
            "google/Mitr/Mitr-Medium.ttf                    2017-11-15 09:11:42       222116\n",
            "google/Mitr/OFL.txt                            2017-11-15 09:11:42         4393\n",
            "google/Mitr/Mitr-Light.ttf                     2017-11-15 09:11:42       211080\n",
            "google/Mitr/Mitr-SemiBold.ttf                  2017-11-15 09:11:42       225796\n",
            "google/Mitr/Mitr-ExtraLight.ttf                2017-11-15 09:11:42       200760\n",
            "google/Baloo_Da/                               2017-11-15 09:11:34            0\n",
            "google/Baloo_Da/OFL.txt                        2017-11-15 09:11:34         4439\n",
            "google/Baloo_Da/BalooDa-Regular.ttf            2017-11-15 09:11:34       437248\n",
            "google/Roboto_Condensed/                       2020-07-25 19:02:56            0\n",
            "google/Roboto_Condensed/RobotoCondensed-Bold.ttf 2017-11-15 09:11:42       169800\n",
            "google/Roboto_Condensed/RobotoCondensed-Light.ttf 2017-11-15 09:11:42       168004\n",
            "google/Roboto_Condensed/RobotoCondensed-Regular.ttf 2017-11-15 09:11:42       170284\n",
            "google/Roboto_Condensed/LICENSE.txt            2017-11-15 09:11:42        11560\n",
            "google/Encode_Sans_Semi_Expanded/              2017-11-15 09:11:44            0\n",
            "google/Encode_Sans_Semi_Expanded/EncodeSansSemiExpanded-ExtraBold.ttf 2017-11-15 09:11:44       170916\n",
            "google/Encode_Sans_Semi_Expanded/EncodeSansSemiExpanded-Thin.ttf 2017-11-15 09:11:44       163204\n",
            "google/Encode_Sans_Semi_Expanded/EncodeSansSemiExpanded-ExtraLight.ttf 2017-11-15 09:11:44       166276\n",
            "google/Encode_Sans_Semi_Expanded/EncodeSansSemiExpanded-Bold.ttf 2017-11-15 09:11:44       169420\n",
            "google/Encode_Sans_Semi_Expanded/EncodeSansSemiExpanded-Black.ttf 2017-11-15 09:11:44       168696\n",
            "google/Encode_Sans_Semi_Expanded/EncodeSansSemiExpanded-SemiBold.ttf 2017-11-15 09:11:44       170788\n",
            "google/Encode_Sans_Semi_Expanded/EncodeSansSemiExpanded-Light.ttf 2017-11-15 09:11:44       169484\n",
            "google/Encode_Sans_Semi_Expanded/OFL.txt       2017-11-15 09:11:44         4502\n",
            "google/Encode_Sans_Semi_Expanded/EncodeSansSemiExpanded-Regular.ttf 2017-11-15 09:11:44       169488\n",
            "google/Encode_Sans_Semi_Expanded/EncodeSansSemiExpanded-Medium.ttf 2017-11-15 09:11:44       170260\n",
            "google/Bungee_Hairline/                        2017-11-15 09:11:32            0\n",
            "google/Bungee_Hairline/BungeeHairline-Regular.ttf 2017-11-15 09:11:32       115760\n",
            "google/Bungee_Hairline/OFL.txt                 2017-11-15 09:11:32         4454\n",
            "google/Farsan/                                 2017-11-15 09:11:32            0\n",
            "google/Farsan/Farsan-Regular.ttf               2017-11-15 09:11:32       243932\n",
            "google/Farsan/OFL.txt                          2017-11-15 09:11:32         4449\n",
            "google/Baloo_Bhai/                             2017-11-15 09:11:34            0\n",
            "google/Baloo_Bhai/BalooBhai-Regular.ttf        2017-11-15 09:11:34       408804\n",
            "google/Baloo_Bhai/OFL.txt                      2017-11-15 09:11:34         4439\n"
          ],
          "name": "stdout"
        }
      ]
    },
    {
      "cell_type": "code",
      "metadata": {
        "id": "Pw4PMNrfu8BD"
      },
      "source": [
        "urllib.request.urlretrieve('https://github.com/atomic14/ar-browser-sudoku/raw/master/tensorflow/fonts/vi.zip', 'data.zip')\n",
        "from zipfile import ZipFile  \n",
        "with ZipFile(\"/content/data.zip\", 'r') as zip: \n",
        "\tzip.printdir() \n",
        "\tzip.extractall() "
      ],
      "execution_count": null,
      "outputs": []
    },
    {
      "cell_type": "code",
      "metadata": {
        "id": "84CgrXHbvUW_"
      },
      "source": [
        "urllib.request.urlretrieve('https://github.com/atomic14/ar-browser-sudoku/raw/master/tensorflow/fonts/win.zip', 'data.zip')\n",
        "from zipfile import ZipFile  \n",
        "with ZipFile(\"/content/data.zip\", 'r') as zip: \n",
        "\tzip.printdir() \n",
        "\tzip.extractall() "
      ],
      "execution_count": null,
      "outputs": []
    },
    {
      "cell_type": "code",
      "metadata": {
        "id": "D_e1zaP1vYH1"
      },
      "source": [
        "file_paths = []\n",
        "for root, directories, files in os.walk(\"/content/\"):\n",
        "    for filename in files:\n",
        "        # Join the two strings in order to form the full filepath.\n",
        "        filepath = os.path.join(root, filename)\n",
        "        #to append\n",
        "        file_paths.append(filepath)"
      ],
      "execution_count": null,
      "outputs": []
    },
    {
      "cell_type": "code",
      "metadata": {
        "id": "inYMh5CJvuOX"
      },
      "source": [
        "os.mkdir(\"/content/dataset\")\n",
        "for i in file_paths:\n",
        "  if(\".ttf\" in i or \".TTF\" in i or \".otf\" in i):\n",
        "    shutil.copy(i, \"/content/dataset/\")"
      ],
      "execution_count": null,
      "outputs": []
    },
    {
      "cell_type": "code",
      "metadata": {
        "id": "FqYZdYye13ax",
        "outputId": "37864cf8-1647-434c-9190-2983e8f49ad6",
        "colab": {
          "base_uri": "https://localhost:8080/",
          "height": 125
        }
      },
      "source": [
        "!pip install fontTools"
      ],
      "execution_count": null,
      "outputs": [
        {
          "output_type": "stream",
          "text": [
            "Collecting fontTools\n",
            "\u001b[?25l  Downloading https://files.pythonhosted.org/packages/0c/1a/13ae5f5d6e2c8ca308fe5d03f4feae757b693198e69d415edfdd018c48fa/fonttools-4.16.1-py3-none-any.whl (818kB)\n",
            "\u001b[K     |████████████████████████████████| 819kB 3.5MB/s \n",
            "\u001b[?25hInstalling collected packages: fontTools\n",
            "Successfully installed fontTools-4.16.1\n"
          ],
          "name": "stdout"
        }
      ]
    },
    {
      "cell_type": "code",
      "metadata": {
        "id": "9JDDyHFt0wnV"
      },
      "source": [
        "import os\n",
        "import re\n",
        "import sys\n",
        "import PIL\n",
        "from PIL import Image\n",
        "from PIL import ImageFont\n",
        "from PIL import ImageDraw\n",
        "from itertools import chain\n",
        "from fontTools.ttLib import TTFont\n",
        "from fontTools.unicode import Unicode\n",
        "\n",
        "\n",
        "def load_font(path):\n",
        "    ttf = TTFont(\n",
        "        path, 0, verbose=0, allowVID=0, \n",
        "        ignoreDecompileErrors=True, fontNumber=-1)\n",
        "    chars = chain.from_iterable(\n",
        "        [y + (Unicode[y[0]], )\n",
        "        for y in x.cmap.items()] for x in ttf['cmap'].tables)\n",
        "    chars = set(chars)\n",
        "    chars = sorted(chars, key=lambda c: int(c[0]))\n",
        "\n",
        "    # Use this for just checking if the font contains the codepoint given as\n",
        "    # second argument:\n",
        "    # char = int(sys.argv[2], 0)\n",
        "    # print(Unicode[char])\n",
        "    # print(char in (x[0] for x in chars))\n",
        "\n",
        "    ttf.close()\n",
        "    return chars\n",
        "\n",
        "\n",
        "def convert_ttf(path, fontsize=60, w=96, h=96):\n",
        "    base = os.path.basename(path)\n",
        "    dirs = os.path.splitext(base)[0]\n",
        "    if not os.path.exists(dirs):\n",
        "        os.mkdir(dirs)\n",
        "    chars = load_font(path)\n",
        "    font = ImageFont.truetype(path, fontsize)\n",
        "    for c in chars:\n",
        "        if re.match('.notdef|nonmarkingreturn|.null', c[1]):\n",
        "            continue\n",
        "        img = Image.new('RGB', (w, h), (255, 255, 255))\n",
        "        draw = ImageDraw.Draw(img)\n",
        "        (ws, hs) = font.getsize(chr(c[0]))\n",
        "        wb = (w - ws) * 0.5\n",
        "        hb = (h - hs) * 0.5\n",
        "        draw.text((wb, hb), chr(c[0]), (0, 0, 0), font=font)\n",
        "        draw = ImageDraw.Draw(img)\n",
        "        img.save('{}/{:d}.png'.format(dirs, c[0]))"
      ],
      "execution_count": null,
      "outputs": []
    },
    {
      "cell_type": "code",
      "metadata": {
        "id": "mKAQiTGmvz_p",
        "outputId": "2d54f42f-6dcb-4d89-be3b-572bbf754dcd",
        "colab": {
          "base_uri": "https://localhost:8080/",
          "height": 52
        }
      },
      "source": [
        "for i in os.listdir(\"/content/dataset/\"):\n",
        "  convert_ttf(\"/content/dataset/\"+i)"
      ],
      "execution_count": 8,
      "outputs": [
        {
          "output_type": "stream",
          "text": [
            "/usr/local/lib/python3.6/dist-packages/ipykernel_launcher.py:16: UserWarning: 'verbose' is deprecated; configure logging instead\n",
            "  app.launch_new_instance()\n"
          ],
          "name": "stderr"
        }
      ]
    },
    {
      "cell_type": "code",
      "metadata": {
        "id": "3Fwi625nNNBA"
      },
      "source": [
        "#creating empty class\n",
        "os.mkdir(\"/content/dataset_by_class\")\n",
        "abcd = [\"a\",\"b\",\"c\",\"d\",\"e\",\"f\",\"g\",\"h\",\"i\",\"j\",\"k\",\"l\",\"m\",\"n\",\"o\",\"p\",\"q\",\"r\",\"s\",\"t\",\"u\",\"v\",\"w\",\"x\",\"y\",\"z\",\"A\",\"B\",\"C\",\"D\",\"E\",\"F\",\"G\",\"H\",\"I\",\"J\",\"K\",\"L\",\"M\",\"N\",\"O\",\"P\",\"Q\",\"R\",\"S\",\"T\",\"U\",\"V\",\"W\",\"X\",\"Y\",\"Z\"]\n",
        "for i in abcd:\n",
        "  os.mkdir(\"/content/dataset_by_class/\"+i)"
      ],
      "execution_count": 9,
      "outputs": []
    },
    {
      "cell_type": "code",
      "metadata": {
        "id": "eNGVt2SjNFF3"
      },
      "source": [
        "file_paths = []\n",
        "for root, directories, files in os.walk(\"/content/\"):\n",
        "    for filename in files:\n",
        "        # Join the two strings in order to form the full filepath.\n",
        "        filepath = os.path.join(root, filename)\n",
        "        #to append\n",
        "        file_paths.append(filepath)"
      ],
      "execution_count": 10,
      "outputs": []
    },
    {
      "cell_type": "code",
      "metadata": {
        "id": "lj0Sqa8hP2SD"
      },
      "source": [
        "file_names_as_abcd = [i for i in range(97,123)]\n",
        "for i in [j for j in range(65,91)]:\n",
        "  file_names_as_abcd.append(i)"
      ],
      "execution_count": 21,
      "outputs": []
    },
    {
      "cell_type": "code",
      "metadata": {
        "id": "UTpqLVk-84le"
      },
      "source": [
        "file_paths_ = []\n",
        "for i in file_paths:\n",
        "  if \".png\" in i:\n",
        "    file_paths_.append(i)"
      ],
      "execution_count": 22,
      "outputs": []
    },
    {
      "cell_type": "code",
      "metadata": {
        "id": "JkTqasoSUTUf",
        "outputId": "5dd3184f-461b-4744-a166-25bb1f491ee9",
        "colab": {
          "base_uri": "https://localhost:8080/",
          "height": 193
        }
      },
      "source": [
        "for i in file_paths_[:10]:\n",
        "  print(i)"
      ],
      "execution_count": 23,
      "outputs": [
        {
          "output_type": "stream",
          "text": [
            "/content/Saira-Light/225.png\n",
            "/content/Saira-Light/226.png\n",
            "/content/Saira-Light/153.png\n",
            "/content/Saira-Light/269.png\n",
            "/content/Saira-Light/8706.png\n",
            "/content/Saira-Light/43.png\n",
            "/content/Saira-Light/218.png\n",
            "/content/Saira-Light/8805.png\n",
            "/content/Saira-Light/276.png\n",
            "/content/Saira-Light/7902.png\n"
          ],
          "name": "stdout"
        }
      ]
    },
    {
      "cell_type": "code",
      "metadata": {
        "id": "ip1zUU4h1vc2"
      },
      "source": [
        "os.listdir(\"/content/dataset_by_class/Y\")"
      ],
      "execution_count": null,
      "outputs": []
    },
    {
      "cell_type": "code",
      "metadata": {
        "id": "eldoqvk1U56G"
      },
      "source": [
        "count = 0\n",
        "for i in file_paths_:\n",
        "  try:\n",
        "    num = int(i.split(\"/\")[-1].replace(\".png\",\"\"))\n",
        "    if num in file_names_as_abcd:\n",
        "      count += 1\n",
        "      shutil.copy(i,\"/content/dataset_by_class/\" + abcd[file_names_as_abcd.index(num)]+ \"/\"+str(count) + \".png\")\n",
        "  except:\n",
        "    pass"
      ],
      "execution_count": 26,
      "outputs": []
    },
    {
      "cell_type": "code",
      "metadata": {
        "id": "cK2KNwp97rrF",
        "outputId": "c682ba8a-1010-4904-be6c-22ae9d6f8365",
        "colab": {
          "base_uri": "https://localhost:8080/",
          "height": 34
        }
      },
      "source": [
        "len(file_names_as_abcd), len(abcd)"
      ],
      "execution_count": 25,
      "outputs": [
        {
          "output_type": "execute_result",
          "data": {
            "text/plain": [
              "(52, 52)"
            ]
          },
          "metadata": {
            "tags": []
          },
          "execution_count": 25
        }
      ]
    },
    {
      "cell_type": "markdown",
      "metadata": {
        "id": "a8WLpdGHXUpz"
      },
      "source": [
        "## Storing dataset in to drive"
      ]
    },
    {
      "cell_type": "code",
      "metadata": {
        "id": "qzpyqgA_XS7O",
        "outputId": "6b365d30-7278-46d6-e120-58d2a7f89b24",
        "colab": {
          "base_uri": "https://localhost:8080/",
          "height": 35
        }
      },
      "source": [
        "shutil.move(\"/content/dataset_by_class/\", \"/htr/dataset_by_class/\")"
      ],
      "execution_count": 29,
      "outputs": [
        {
          "output_type": "execute_result",
          "data": {
            "application/vnd.google.colaboratory.intrinsic+json": {
              "type": "string"
            },
            "text/plain": [
              "'/htr/dataset_by_class/'"
            ]
          },
          "metadata": {
            "tags": []
          },
          "execution_count": 29
        }
      ]
    },
    {
      "cell_type": "code",
      "metadata": {
        "id": "34lJP9QtMS6C",
        "outputId": "3467e413-bcf5-4ebb-e4ce-c2231c091a15",
        "colab": {
          "base_uri": "https://localhost:8080/",
          "height": 268
        }
      },
      "source": [
        "from PIL import Image\n",
        "try:\n",
        "  image = Image.open('/content/dataset_by_class/F/70.png')\n",
        "  plt.imshow(image)\n",
        "except:\n",
        "  pass"
      ],
      "execution_count": null,
      "outputs": [
        {
          "output_type": "display_data",
          "data": {
            "image/png": "[encoded data removed]",
            "text/plain": [
              "<Figure size 432x288 with 1 Axes>"
            ]
          },
          "metadata": {
            "tags": [],
            "needs_background": "light"
          }
        }
      ]
    },
    {
      "cell_type": "markdown",
      "metadata": {
        "id": "61QGc5u4iB5o"
      },
      "source": [
        "### train test split"
      ]
    },
    {
      "cell_type": "code",
      "metadata": {
        "id": "uBz0NNg99j7X"
      },
      "source": [
        "#shutil.rmtree(\"/htr/training/\")\n",
        "#shutil.rmtree(\"/htr/testing//\")"
      ],
      "execution_count": 39,
      "outputs": []
    },
    {
      "cell_type": "code",
      "metadata": {
        "id": "3QptriejiBc2"
      },
      "source": [
        "os.mkdir(\"/htr/training/\")\n",
        "os.mkdir(\"/htr/testing/\")\n",
        "for cls in os.listdir(\"/htr/dataset_by_class\"):\n",
        "  os.mkdir(\"/htr/training/\"+cls)\n",
        "  os.mkdir(\"/htr/testing/\"+cls)"
      ],
      "execution_count": 40,
      "outputs": []
    },
    {
      "cell_type": "code",
      "metadata": {
        "id": "pLnH9FjLRDUN"
      },
      "source": [
        "for cls in os.listdir(\"/htr/dataset_by_class\"):\n",
        "  #print(\"Class: \", cls)\n",
        "  count = 0\n",
        "  train_file_size = int(len(os.listdir(\"/htr/dataset_by_class/\"+cls))*.80)\n",
        "  for file in os.listdir(\"/htr/dataset_by_class/\"+cls):\n",
        "    if count <= train_file_size :\n",
        "      count += 1\n",
        "      shutil.copy(\"/htr/dataset_by_class/\"+cls+\"/\"+file,\"/htr/training/\"+cls+\"/\")\n",
        "    else:\n",
        "      shutil.copy(\"/htr/dataset_by_class/\"+cls+\"/\"+file,\"/htr/testing/\"+cls+\"/\")"
      ],
      "execution_count": null,
      "outputs": []
    },
    {
      "cell_type": "markdown",
      "metadata": {
        "id": "pam7LOuQTf3Q"
      },
      "source": [
        "# Step 3: Build and train model"
      ]
    },
    {
      "cell_type": "markdown",
      "metadata": {
        "id": "ObfCMx84Tfvk"
      },
      "source": [
        "## importing library "
      ]
    },
    {
      "cell_type": "code",
      "metadata": {
        "id": "ycDeTNCPWrJF"
      },
      "source": [
        "import pandas as pd\n",
        "import matplotlib.pyplot as plt\n",
        "import numpy as np\n",
        "import tensorflow as tf\n",
        "import datetime\n",
        "from tensorflow.keras.models import Sequential\n",
        "from tensorflow.keras.layers import Dense, Conv2D, Flatten, Dropout, MaxPooling2D\n",
        "from tensorflow.keras.preprocessing.image import ImageDataGenerator\n",
        "from tensorflow.keras import regularizers\n",
        "import matplotlib.pyplot as plt"
      ],
      "execution_count": 42,
      "outputs": []
    },
    {
      "cell_type": "code",
      "metadata": {
        "id": "An-Z4lndAC9d"
      },
      "source": [
        "#downloading for local files\n",
        "!git clone \"https://github.com/atomic14/ar-browser-sudoku.git\"\n",
        "shutil.copytree(\"/content/ar-browser-sudoku/tensorflow/lib/\", \"/content/lib\")\n",
        "from lib.plot_images import plot_images\n",
        "from lib.confusion_matrix import create_confusion_matrix_callback"
      ],
      "execution_count": 81,
      "outputs": []
    },
    {
      "cell_type": "markdown",
      "metadata": {
        "id": "k74MTDj_WOhA"
      },
      "source": [
        "## Training hyperparameters"
      ]
    },
    {
      "cell_type": "code",
      "metadata": {
        "id": "6yJnotvLWOhC"
      },
      "source": [
        "batch_size = 32\n",
        "epochs = 10"
      ],
      "execution_count": 43,
      "outputs": []
    },
    {
      "cell_type": "markdown",
      "metadata": {
        "id": "M4FK40fXWOhM"
      },
      "source": [
        "## This must match what is used in the javascript code"
      ]
    },
    {
      "cell_type": "code",
      "metadata": {
        "id": "GuWKchk6WOhO"
      },
      "source": [
        "IMG_HEIGHT = 20\n",
        "IMG_WIDTH = 20"
      ],
      "execution_count": 44,
      "outputs": []
    },
    {
      "cell_type": "markdown",
      "metadata": {
        "id": "nSknZt38WOhX"
      },
      "source": [
        "## Data Generators\n",
        "We defined two data generators, one that augments the data to make our training more general and one that just scales and centers the data."
      ]
    },
    {
      "cell_type": "code",
      "metadata": {
        "id": "zTYmFPE_WOhZ"
      },
      "source": [
        "augmented_image_gen = ImageDataGenerator(\n",
        "    rotation_range=2,\n",
        "    width_shift_range=.1,\n",
        "    height_shift_range=.1,\n",
        "    zoom_range=0.1,\n",
        "    shear_range=2,\n",
        "    brightness_range=[0.9, 1.1],\n",
        "    validation_split=0.2,\n",
        "    samplewise_center=True,\n",
        "    samplewise_std_normalization=True)\n",
        "\n",
        "normal_image_gen = ImageDataGenerator(\n",
        "    validation_split=0.2,\n",
        "    samplewise_center=True,\n",
        "    samplewise_std_normalization=True\n",
        ")"
      ],
      "execution_count": 45,
      "outputs": []
    },
    {
      "cell_type": "markdown",
      "metadata": {
        "id": "j4xke9uCWOhk"
      },
      "source": [
        "## Load in the data\n",
        "For the training data and validation data it's important that they have the same seed so we get the correct validation subset for the training subset."
      ]
    },
    {
      "cell_type": "code",
      "metadata": {
        "id": "m8pM5h9GWOhm",
        "outputId": "848cac14-3b35-49e0-f4c8-02f3d7b1ec8e",
        "colab": {
          "base_uri": "https://localhost:8080/",
          "height": 70
        }
      },
      "source": [
        "train_data_gen = augmented_image_gen.flow_from_directory(batch_size=batch_size,\n",
        "                                                     directory=\"/htr/training/\",\n",
        "                                                     color_mode=\"grayscale\",\n",
        "                                                     shuffle=True,\n",
        "                                                     target_size=(IMG_HEIGHT, IMG_WIDTH),\n",
        "                                                     class_mode=\"categorical\",\n",
        "                                                     seed=65657867,\n",
        "                                                     subset='training')\n",
        "val_data_gen = normal_image_gen.flow_from_directory(batch_size=batch_size,\n",
        "                                                     directory=\"/htr/testing/\",\n",
        "                                                     color_mode=\"grayscale\",\n",
        "                                                     shuffle=True,\n",
        "                                                     target_size=(IMG_HEIGHT, IMG_WIDTH),\n",
        "                                                     class_mode=\"categorical\",\n",
        "                                                     seed=65657867,\n",
        "                                                     subset='validation')\n",
        "confusion_data_gen = normal_image_gen.flow_from_directory(batch_size=train_data_gen.samples,\n",
        "                                                     directory=\"/htr/training/\",\n",
        "                                                     color_mode=\"grayscale\",\n",
        "                                                     shuffle=False,\n",
        "                                                     target_size=(IMG_HEIGHT, IMG_WIDTH),\n",
        "                                                     class_mode=\"categorical\",\n",
        "                                                     seed=65657867,\n",
        "                                                     subset='validation')"
      ],
      "execution_count": 46,
      "outputs": [
        {
          "output_type": "stream",
          "text": [
            "Found 23487 images belonging to 52 classes.\n",
            "Found 1442 images belonging to 52 classes.\n",
            "Found 5840 images belonging to 52 classes.\n"
          ],
          "name": "stdout"
        }
      ]
    },
    {
      "cell_type": "code",
      "metadata": {
        "id": "ZMJE2XriWOhw",
        "outputId": "a7865854-3575-47e0-c6f5-0bc5d240c583",
        "colab": {
          "base_uri": "https://localhost:8080/",
          "height": 242
        }
      },
      "source": [
        "sample_training_images, _ = next(train_data_gen)\n",
        "plot_images(sample_training_images[:5], IMG_WIDTH, IMG_HEIGHT)"
      ],
      "execution_count": 82,
      "outputs": [
        {
          "output_type": "display_data",
          "data": {
            "image/png": "[encoded data removed]",
            "text/plain": [
              "<Figure size 1440x1440 with 5 Axes>"
            ]
          },
          "metadata": {
            "tags": [],
            "needs_background": "light"
          }
        }
      ]
    },
    {
      "cell_type": "markdown",
      "metadata": {
        "id": "w3kPfxhrWOh6"
      },
      "source": [
        "## Our very simple model\n",
        "A single convolution layer, followed by a dense layer followed by the output layer.\n",
        "We're using linear regularisation and dropouts to prevent overfitting of the training data."
      ]
    },
    {
      "cell_type": "code",
      "metadata": {
        "id": "YJvccQofWOh7"
      },
      "source": [
        "model = Sequential([\n",
        "    Conv2D(16, 3, \n",
        "           padding='same',\n",
        "           activation='relu',\n",
        "           kernel_regularizer=regularizers.l2(0.0001),\n",
        "           input_shape=(IMG_HEIGHT, IMG_WIDTH , 1)),\n",
        "    MaxPooling2D(),\n",
        "    Dropout(0.2),\n",
        "    Flatten(),\n",
        "    Dense(50,activation='relu',kernel_regularizer=regularizers.l2(0.0001)),\n",
        "    Dropout(0.2),\n",
        "    Dense(52, activation='softmax')\n",
        "])"
      ],
      "execution_count": 83,
      "outputs": []
    },
    {
      "cell_type": "markdown",
      "metadata": {
        "id": "6DDMi0n1WOiZ"
      },
      "source": [
        "## Do the actual training"
      ]
    },
    {
      "cell_type": "code",
      "metadata": {
        "id": "AzsyLJDCWOib",
        "outputId": "7a573842-c78d-452f-81f9-6419cd858acb",
        "colab": {
          "base_uri": "https://localhost:8080/",
          "height": 494
        }
      },
      "source": [
        "model.compile(optimizer='adam',\n",
        "              loss=tf.keras.losses.CategoricalCrossentropy(),\n",
        "              metrics=['accuracy'])\n",
        "\n",
        "history = model.fit_generator(\n",
        "    train_data_gen,\n",
        "    steps_per_epoch=train_data_gen.samples // batch_size,\n",
        "    epochs=epochs,\n",
        "    validation_data=val_data_gen,\n",
        "    validation_steps=val_data_gen.samples // batch_size,\n",
        "    callbacks=[tensorboard_callback, cm_callback]\n",
        ")"
      ],
      "execution_count": 86,
      "outputs": [
        {
          "output_type": "stream",
          "text": [
            "WARNING:tensorflow:From <ipython-input-86-59e62933eb72>:11: Model.fit_generator (from tensorflow.python.keras.engine.training) is deprecated and will be removed in a future version.\n",
            "Instructions for updating:\n",
            "Please use Model.fit, which supports generators.\n",
            "Epoch 1/10\n",
            "  1/733 [..............................] - ETA: 0s - loss: 4.0171 - accuracy: 0.0625WARNING:tensorflow:From /usr/local/lib/python3.6/dist-packages/tensorflow/python/ops/summary_ops_v2.py:1277: stop (from tensorflow.python.eager.profiler) is deprecated and will be removed after 2020-07-01.\n",
            "Instructions for updating:\n",
            "use `tf.profiler.experimental.stop` instead.\n",
            "733/733 [==============================] - 32s 44ms/step - loss: 3.0908 - accuracy: 0.1990 - val_loss: 1.6066 - val_accuracy: 0.6257\n",
            "Epoch 2/10\n",
            "733/733 [==============================] - 32s 43ms/step - loss: 2.0508 - accuracy: 0.4282 - val_loss: 1.1572 - val_accuracy: 0.7292\n",
            "Epoch 3/10\n",
            "733/733 [==============================] - 32s 43ms/step - loss: 1.7375 - accuracy: 0.5103 - val_loss: 0.9736 - val_accuracy: 0.7903\n",
            "Epoch 4/10\n",
            "733/733 [==============================] - 31s 43ms/step - loss: 1.6231 - accuracy: 0.5403 - val_loss: 0.9340 - val_accuracy: 0.7833\n",
            "Epoch 5/10\n",
            "733/733 [==============================] - 32s 43ms/step - loss: 1.5373 - accuracy: 0.5646 - val_loss: 0.9548 - val_accuracy: 0.7785\n",
            "Epoch 6/10\n",
            "733/733 [==============================] - 32s 44ms/step - loss: 1.4850 - accuracy: 0.5807 - val_loss: 0.8892 - val_accuracy: 0.7958\n",
            "Epoch 7/10\n",
            "733/733 [==============================] - 32s 43ms/step - loss: 1.4489 - accuracy: 0.5952 - val_loss: 0.8793 - val_accuracy: 0.7972\n",
            "Epoch 8/10\n",
            "733/733 [==============================] - 32s 44ms/step - loss: 1.4069 - accuracy: 0.6068 - val_loss: 0.8678 - val_accuracy: 0.8035\n",
            "Epoch 9/10\n",
            "733/733 [==============================] - 31s 43ms/step - loss: 1.3822 - accuracy: 0.6115 - val_loss: 0.8319 - val_accuracy: 0.8021\n",
            "Epoch 10/10\n",
            "733/733 [==============================] - 32s 44ms/step - loss: 1.3695 - accuracy: 0.6156 - val_loss: 0.8308 - val_accuracy: 0.7986\n"
          ],
          "name": "stdout"
        }
      ]
    },
    {
      "cell_type": "code",
      "metadata": {
        "id": "KS1IgpYcWOil",
        "outputId": "c1b86919-090f-4b73-90e2-f4f364c84035",
        "colab": {
          "base_uri": "https://localhost:8080/",
          "height": 499
        }
      },
      "source": [
        "acc = history.history['accuracy']\n",
        "val_acc = history.history['val_accuracy']\n",
        "\n",
        "loss = history.history['loss']\n",
        "val_loss = history.history['val_loss']\n",
        "\n",
        "epochs_range = range(epochs)\n",
        "\n",
        "plt.figure(figsize=(8, 8))\n",
        "plt.subplot(1, 2, 1)\n",
        "plt.plot(epochs_range, acc, label='Training Accuracy')\n",
        "plt.plot(epochs_range, val_acc, label='Validation Accuracy')\n",
        "plt.legend(loc='lower right')\n",
        "plt.title('Training and Validation Accuracy')\n",
        "\n",
        "plt.subplot(1, 2, 2)\n",
        "plt.plot(epochs_range, loss, label='Training Loss')\n",
        "plt.plot(epochs_range, val_loss, label='Validation Loss')\n",
        "plt.legend(loc='upper right')\n",
        "plt.title('Training and Validation Loss')\n",
        "plt.show()"
      ],
      "execution_count": 87,
      "outputs": [
        {
          "output_type": "display_data",
          "data": {
            "image/png": "[encoded data removed]",
            "text/plain": [
              "<Figure size 576x576 with 2 Axes>"
            ]
          },
          "metadata": {
            "tags": [],
            "needs_background": "light"
          }
        }
      ]
    },
    {
      "cell_type": "code",
      "metadata": {
        "id": "YiTiU4VLWOiu",
        "outputId": "187500d1-da4b-4b1a-d447-bea6eac3fd36",
        "colab": {
          "base_uri": "https://localhost:8080/",
          "height": 160
        }
      },
      "source": [
        "model.save(\"/htr/trained.model\")"
      ],
      "execution_count": 88,
      "outputs": [
        {
          "output_type": "stream",
          "text": [
            "WARNING:tensorflow:From /usr/local/lib/python3.6/dist-packages/tensorflow/python/training/tracking/tracking.py:111: Model.state_updates (from tensorflow.python.keras.engine.training) is deprecated and will be removed in a future version.\n",
            "Instructions for updating:\n",
            "This property should not be used in TensorFlow 2.0, as updates are applied automatically.\n",
            "WARNING:tensorflow:From /usr/local/lib/python3.6/dist-packages/tensorflow/python/training/tracking/tracking.py:111: Layer.updates (from tensorflow.python.keras.engine.base_layer) is deprecated and will be removed in a future version.\n",
            "Instructions for updating:\n",
            "This property should not be used in TensorFlow 2.0, as updates are applied automatically.\n",
            "INFO:tensorflow:Assets written to: /content/htr/trained.model/assets\n"
          ],
          "name": "stdout"
        }
      ]
    },
    {
      "cell_type": "markdown",
      "metadata": {
        "id": "i4ylzt_-WOi4"
      },
      "source": [
        "## Train on all the available data for our final model"
      ]
    },
    {
      "cell_type": "code",
      "metadata": {
        "id": "B_fIKUeOWOi6",
        "outputId": "e1538467-8b01-4f0d-b26f-b5de88e520f0",
        "colab": {
          "base_uri": "https://localhost:8080/",
          "height": 34
        }
      },
      "source": [
        "all_data_gen = augmented_image_gen.flow_from_directory(batch_size=batch_size,\n",
        "                                                     directory=\"/htr/dataset_by_class/\",\n",
        "                                                     color_mode=\"grayscale\",\n",
        "                                                     shuffle=True,\n",
        "                                                     target_size=(IMG_HEIGHT, IMG_WIDTH),\n",
        "                                                     class_mode=\"categorical\")"
      ],
      "execution_count": 89,
      "outputs": [
        {
          "output_type": "stream",
          "text": [
            "Found 36640 images belonging to 52 classes.\n"
          ],
          "name": "stdout"
        }
      ]
    },
    {
      "cell_type": "code",
      "metadata": {
        "id": "GEyEPTGfWOjC",
        "outputId": "d36274fd-47ac-4f9f-8849-501e7ba73776",
        "colab": {
          "base_uri": "https://localhost:8080/",
          "height": 1000
        }
      },
      "source": [
        "all_history = model.fit_generator(\n",
        "    all_data_gen,\n",
        "    steps_per_epoch=train_data_gen.samples // batch_size,\n",
        "    epochs=50)"
      ],
      "execution_count": 90,
      "outputs": [
        {
          "output_type": "stream",
          "text": [
            "Epoch 1/50\n",
            "733/733 [==============================] - 27s 37ms/step - loss: 1.3634 - accuracy: 0.6246\n",
            "Epoch 2/50\n",
            "733/733 [==============================] - 25s 34ms/step - loss: 1.3565 - accuracy: 0.6209\n",
            "Epoch 3/50\n",
            "733/733 [==============================] - 25s 35ms/step - loss: 1.3280 - accuracy: 0.6337\n",
            "Epoch 4/50\n",
            "733/733 [==============================] - 25s 35ms/step - loss: 1.3187 - accuracy: 0.6322\n",
            "Epoch 5/50\n",
            "733/733 [==============================] - 25s 35ms/step - loss: 1.3172 - accuracy: 0.6386\n",
            "Epoch 6/50\n",
            "733/733 [==============================] - 25s 35ms/step - loss: 1.3115 - accuracy: 0.6376\n",
            "Epoch 7/50\n",
            "733/733 [==============================] - 25s 34ms/step - loss: 1.2914 - accuracy: 0.6427\n",
            "Epoch 8/50\n",
            "733/733 [==============================] - 25s 34ms/step - loss: 1.2912 - accuracy: 0.6438\n",
            "Epoch 9/50\n",
            "733/733 [==============================] - 25s 35ms/step - loss: 1.2813 - accuracy: 0.6477\n",
            "Epoch 10/50\n",
            "733/733 [==============================] - 25s 34ms/step - loss: 1.2693 - accuracy: 0.6513\n",
            "Epoch 11/50\n",
            "733/733 [==============================] - 26s 35ms/step - loss: 1.2660 - accuracy: 0.6487\n",
            "Epoch 12/50\n",
            "733/733 [==============================] - 25s 35ms/step - loss: 1.2509 - accuracy: 0.6551\n",
            "Epoch 13/50\n",
            "733/733 [==============================] - 25s 34ms/step - loss: 1.2684 - accuracy: 0.6536\n",
            "Epoch 14/50\n",
            "733/733 [==============================] - 25s 34ms/step - loss: 1.2693 - accuracy: 0.6545\n",
            "Epoch 15/50\n",
            "733/733 [==============================] - 25s 35ms/step - loss: 1.2337 - accuracy: 0.6620\n",
            "Epoch 16/50\n",
            "733/733 [==============================] - 25s 34ms/step - loss: 1.2537 - accuracy: 0.6577\n",
            "Epoch 17/50\n",
            "733/733 [==============================] - 25s 34ms/step - loss: 1.2486 - accuracy: 0.6588\n",
            "Epoch 18/50\n",
            "733/733 [==============================] - 25s 34ms/step - loss: 1.2480 - accuracy: 0.6597\n",
            "Epoch 19/50\n",
            "733/733 [==============================] - 25s 34ms/step - loss: 1.2443 - accuracy: 0.6610\n",
            "Epoch 20/50\n",
            "733/733 [==============================] - 26s 35ms/step - loss: 1.2303 - accuracy: 0.6623\n",
            "Epoch 21/50\n",
            "733/733 [==============================] - 26s 36ms/step - loss: 1.2396 - accuracy: 0.6661\n",
            "Epoch 22/50\n",
            "733/733 [==============================] - 25s 34ms/step - loss: 1.2358 - accuracy: 0.6579\n",
            "Epoch 23/50\n",
            "733/733 [==============================] - 26s 35ms/step - loss: 1.2366 - accuracy: 0.6632\n",
            "Epoch 24/50\n",
            "733/733 [==============================] - 25s 34ms/step - loss: 1.2330 - accuracy: 0.6646\n",
            "Epoch 25/50\n",
            "733/733 [==============================] - 25s 34ms/step - loss: 1.2230 - accuracy: 0.6684\n",
            "Epoch 26/50\n",
            "733/733 [==============================] - 25s 35ms/step - loss: 1.2112 - accuracy: 0.6661\n",
            "Epoch 27/50\n",
            "733/733 [==============================] - 25s 34ms/step - loss: 1.2214 - accuracy: 0.6667\n",
            "Epoch 28/50\n",
            "733/733 [==============================] - 25s 34ms/step - loss: 1.2212 - accuracy: 0.6673\n",
            "Epoch 29/50\n",
            "733/733 [==============================] - 25s 34ms/step - loss: 1.2218 - accuracy: 0.6664\n",
            "Epoch 30/50\n",
            "733/733 [==============================] - 25s 34ms/step - loss: 1.2138 - accuracy: 0.6690\n",
            "Epoch 31/50\n",
            "733/733 [==============================] - 25s 34ms/step - loss: 1.1955 - accuracy: 0.6759\n",
            "Epoch 32/50\n",
            "733/733 [==============================] - 25s 34ms/step - loss: 1.1994 - accuracy: 0.6720\n",
            "Epoch 33/50\n",
            "733/733 [==============================] - 25s 34ms/step - loss: 1.2284 - accuracy: 0.6661\n",
            "Epoch 34/50\n",
            "733/733 [==============================] - 25s 34ms/step - loss: 1.2080 - accuracy: 0.6701\n",
            "Epoch 35/50\n",
            "733/733 [==============================] - 25s 35ms/step - loss: 1.2052 - accuracy: 0.6730\n",
            "Epoch 36/50\n",
            "733/733 [==============================] - 25s 35ms/step - loss: 1.2035 - accuracy: 0.6686\n",
            "Epoch 37/50\n",
            "733/733 [==============================] - 25s 35ms/step - loss: 1.2026 - accuracy: 0.6713\n",
            "Epoch 38/50\n",
            "733/733 [==============================] - 25s 35ms/step - loss: 1.2022 - accuracy: 0.6727\n",
            "Epoch 39/50\n",
            "733/733 [==============================] - 25s 35ms/step - loss: 1.1992 - accuracy: 0.6721\n",
            "Epoch 40/50\n",
            "733/733 [==============================] - 25s 35ms/step - loss: 1.2110 - accuracy: 0.6715\n",
            "Epoch 41/50\n",
            "733/733 [==============================] - 25s 34ms/step - loss: 1.1900 - accuracy: 0.6725\n",
            "Epoch 42/50\n",
            "733/733 [==============================] - 25s 35ms/step - loss: 1.1882 - accuracy: 0.6793\n",
            "Epoch 43/50\n",
            "733/733 [==============================] - 25s 35ms/step - loss: 1.1881 - accuracy: 0.6770\n",
            "Epoch 44/50\n",
            "733/733 [==============================] - 26s 35ms/step - loss: 1.1803 - accuracy: 0.6788\n",
            "Epoch 45/50\n",
            "733/733 [==============================] - 26s 36ms/step - loss: 1.1666 - accuracy: 0.6839\n",
            "Epoch 46/50\n",
            "733/733 [==============================] - 25s 35ms/step - loss: 1.1890 - accuracy: 0.6766\n",
            "Epoch 47/50\n",
            "733/733 [==============================] - 25s 35ms/step - loss: 1.1802 - accuracy: 0.6794\n",
            "Epoch 48/50\n",
            "733/733 [==============================] - 26s 35ms/step - loss: 1.1736 - accuracy: 0.6795\n",
            "Epoch 49/50\n",
            "733/733 [==============================] - 25s 35ms/step - loss: 1.1761 - accuracy: 0.6756\n",
            "Epoch 50/50\n",
            "733/733 [==============================] - 25s 34ms/step - loss: 1.1759 - accuracy: 0.6798\n"
          ],
          "name": "stdout"
        }
      ]
    },
    {
      "cell_type": "markdown",
      "metadata": {
        "id": "SNYkm_61a0rI"
      },
      "source": [
        "# Step 4: Evaluate model"
      ]
    },
    {
      "cell_type": "code",
      "metadata": {
        "id": "gDmdtc83WOjK",
        "outputId": "5c12a938-6ccd-4a3e-dcbb-c1d4009df157",
        "colab": {
          "base_uri": "https://localhost:8080/",
          "height": 390
        }
      },
      "source": [
        "acc = history.history['accuracy']\n",
        "loss = history.history['loss']\n",
        "\n",
        "epochs_range = range(epochs)\n",
        "\n",
        "plt.figure(figsize=(16, 6))\n",
        "plt.subplot(1, 2, 1)\n",
        "plt.plot(epochs_range, acc, label='Training Accuracy')\n",
        "plt.legend(loc='lower right')\n",
        "plt.title('Training Accuracy')\n",
        "\n",
        "plt.subplot(1, 2, 2)\n",
        "plt.plot(epochs_range, loss, label='Training Loss')\n",
        "plt.legend(loc='upper right')\n",
        "plt.title('Training Loss')\n",
        "plt.show()"
      ],
      "execution_count": 91,
      "outputs": [
        {
          "output_type": "display_data",
          "data": {
            "image/png": "[encoded data removed]",
            "text/plain": [
              "<Figure size 1152x432 with 2 Axes>"
            ]
          },
          "metadata": {
            "tags": [],
            "needs_background": "light"
          }
        }
      ]
    },
    {
      "cell_type": "code",
      "metadata": {
        "id": "MwAm0NaWFx57",
        "outputId": "401a3c43-a935-4988-a982-b27c73d165c9",
        "colab": {
          "base_uri": "https://localhost:8080/",
          "height": 34
        }
      },
      "source": [
        "model.save(\"/htr/trained.model\")"
      ],
      "execution_count": 93,
      "outputs": [
        {
          "output_type": "stream",
          "text": [
            "INFO:tensorflow:Assets written to: /htr/trained.model/assets\n"
          ],
          "name": "stdout"
        }
      ]
    },
    {
      "cell_type": "markdown",
      "metadata": {
        "id": "LnYh6xkkbD-T"
      },
      "source": [
        "# Step 5: Deploy and monitor"
      ]
    },
    {
      "cell_type": "code",
      "metadata": {
        "id": "qWRT5JUAWOjU",
        "outputId": "b76d54e4-35f9-4a81-a0f5-a12cfb2759a6",
        "colab": {
          "base_uri": "https://localhost:8080/",
          "height": 829
        }
      },
      "source": [
        "!pip install tensorflowjs\n",
        "import tensorflowjs as tfjs\n",
        "tfjs.converters.save_keras_model(model, \"/htr/tfjs_model\")"
      ],
      "execution_count": 95,
      "outputs": [
        {
          "output_type": "stream",
          "text": [
            "Collecting tensorflowjs\n",
            "\u001b[?25l  Downloading https://files.pythonhosted.org/packages/e8/c8/c52e21c49b3baf0845e395241046a993e244dd4b94c9827a8cd2d9b18927/tensorflowjs-2.7.0-py3-none-any.whl (62kB)\n",
            "\r\u001b[K     |█████▎                          | 10kB 12.4MB/s eta 0:00:01\r\u001b[K     |██████████▌                     | 20kB 2.2MB/s eta 0:00:01\r\u001b[K     |███████████████▊                | 30kB 2.5MB/s eta 0:00:01\r\u001b[K     |█████████████████████           | 40kB 2.9MB/s eta 0:00:01\r\u001b[K     |██████████████████████████▏     | 51kB 2.5MB/s eta 0:00:01\r\u001b[K     |███████████████████████████████▍| 61kB 2.8MB/s eta 0:00:01\r\u001b[K     |████████████████████████████████| 71kB 2.4MB/s \n",
            "\u001b[?25hRequirement already satisfied: six<2,>=1.12.0 in /usr/local/lib/python3.6/dist-packages (from tensorflowjs) (1.15.0)\n",
            "Requirement already satisfied: h5py<3,>=2.8.0 in /usr/local/lib/python3.6/dist-packages (from tensorflowjs) (2.10.0)\n",
            "Requirement already satisfied: tensorflow<3,>=2.1.0 in /usr/local/lib/python3.6/dist-packages (from tensorflowjs) (2.3.0)\n",
            "Requirement already satisfied: tensorflow-hub<0.10,>=0.7.0 in /usr/local/lib/python3.6/dist-packages (from tensorflowjs) (0.9.0)\n",
            "Requirement already satisfied: numpy>=1.7 in /usr/local/lib/python3.6/dist-packages (from h5py<3,>=2.8.0->tensorflowjs) (1.18.5)\n",
            "Requirement already satisfied: grpcio>=1.8.6 in /usr/local/lib/python3.6/dist-packages (from tensorflow<3,>=2.1.0->tensorflowjs) (1.33.1)\n",
            "Requirement already satisfied: wrapt>=1.11.1 in /usr/local/lib/python3.6/dist-packages (from tensorflow<3,>=2.1.0->tensorflowjs) (1.12.1)\n",
            "Requirement already satisfied: google-pasta>=0.1.8 in /usr/local/lib/python3.6/dist-packages (from tensorflow<3,>=2.1.0->tensorflowjs) (0.2.0)\n",
            "Requirement already satisfied: tensorboard<3,>=2.3.0 in /usr/local/lib/python3.6/dist-packages (from tensorflow<3,>=2.1.0->tensorflowjs) (2.3.0)\n",
            "Requirement already satisfied: keras-preprocessing<1.2,>=1.1.1 in /usr/local/lib/python3.6/dist-packages (from tensorflow<3,>=2.1.0->tensorflowjs) (1.1.2)\n",
            "Requirement already satisfied: astunparse==1.6.3 in /usr/local/lib/python3.6/dist-packages (from tensorflow<3,>=2.1.0->tensorflowjs) (1.6.3)\n",
            "Requirement already satisfied: opt-einsum>=2.3.2 in /usr/local/lib/python3.6/dist-packages (from tensorflow<3,>=2.1.0->tensorflowjs) (3.3.0)\n",
            "Requirement already satisfied: wheel>=0.26 in /usr/local/lib/python3.6/dist-packages (from tensorflow<3,>=2.1.0->tensorflowjs) (0.35.1)\n",
            "Requirement already satisfied: scipy==1.4.1 in /usr/local/lib/python3.6/dist-packages (from tensorflow<3,>=2.1.0->tensorflowjs) (1.4.1)\n",
            "Requirement already satisfied: tensorflow-estimator<2.4.0,>=2.3.0 in /usr/local/lib/python3.6/dist-packages (from tensorflow<3,>=2.1.0->tensorflowjs) (2.3.0)\n",
            "Requirement already satisfied: absl-py>=0.7.0 in /usr/local/lib/python3.6/dist-packages (from tensorflow<3,>=2.1.0->tensorflowjs) (0.10.0)\n",
            "Requirement already satisfied: protobuf>=3.9.2 in /usr/local/lib/python3.6/dist-packages (from tensorflow<3,>=2.1.0->tensorflowjs) (3.12.4)\n",
            "Requirement already satisfied: gast==0.3.3 in /usr/local/lib/python3.6/dist-packages (from tensorflow<3,>=2.1.0->tensorflowjs) (0.3.3)\n",
            "Requirement already satisfied: termcolor>=1.1.0 in /usr/local/lib/python3.6/dist-packages (from tensorflow<3,>=2.1.0->tensorflowjs) (1.1.0)\n",
            "Requirement already satisfied: setuptools>=41.0.0 in /usr/local/lib/python3.6/dist-packages (from tensorboard<3,>=2.3.0->tensorflow<3,>=2.1.0->tensorflowjs) (50.3.0)\n",
            "Requirement already satisfied: google-auth-oauthlib<0.5,>=0.4.1 in /usr/local/lib/python3.6/dist-packages (from tensorboard<3,>=2.3.0->tensorflow<3,>=2.1.0->tensorflowjs) (0.4.1)\n",
            "Requirement already satisfied: requests<3,>=2.21.0 in /usr/local/lib/python3.6/dist-packages (from tensorboard<3,>=2.3.0->tensorflow<3,>=2.1.0->tensorflowjs) (2.23.0)\n",
            "Requirement already satisfied: markdown>=2.6.8 in /usr/local/lib/python3.6/dist-packages (from tensorboard<3,>=2.3.0->tensorflow<3,>=2.1.0->tensorflowjs) (3.3.2)\n",
            "Requirement already satisfied: tensorboard-plugin-wit>=1.6.0 in /usr/local/lib/python3.6/dist-packages (from tensorboard<3,>=2.3.0->tensorflow<3,>=2.1.0->tensorflowjs) (1.7.0)\n",
            "Requirement already satisfied: google-auth<2,>=1.6.3 in /usr/local/lib/python3.6/dist-packages (from tensorboard<3,>=2.3.0->tensorflow<3,>=2.1.0->tensorflowjs) (1.17.2)\n",
            "Requirement already satisfied: werkzeug>=0.11.15 in /usr/local/lib/python3.6/dist-packages (from tensorboard<3,>=2.3.0->tensorflow<3,>=2.1.0->tensorflowjs) (1.0.1)\n",
            "Requirement already satisfied: requests-oauthlib>=0.7.0 in /usr/local/lib/python3.6/dist-packages (from google-auth-oauthlib<0.5,>=0.4.1->tensorboard<3,>=2.3.0->tensorflow<3,>=2.1.0->tensorflowjs) (1.3.0)\n",
            "Requirement already satisfied: urllib3!=1.25.0,!=1.25.1,<1.26,>=1.21.1 in /usr/local/lib/python3.6/dist-packages (from requests<3,>=2.21.0->tensorboard<3,>=2.3.0->tensorflow<3,>=2.1.0->tensorflowjs) (1.24.3)\n",
            "Requirement already satisfied: certifi>=2017.4.17 in /usr/local/lib/python3.6/dist-packages (from requests<3,>=2.21.0->tensorboard<3,>=2.3.0->tensorflow<3,>=2.1.0->tensorflowjs) (2020.6.20)\n",
            "Requirement already satisfied: chardet<4,>=3.0.2 in /usr/local/lib/python3.6/dist-packages (from requests<3,>=2.21.0->tensorboard<3,>=2.3.0->tensorflow<3,>=2.1.0->tensorflowjs) (3.0.4)\n",
            "Requirement already satisfied: idna<3,>=2.5 in /usr/local/lib/python3.6/dist-packages (from requests<3,>=2.21.0->tensorboard<3,>=2.3.0->tensorflow<3,>=2.1.0->tensorflowjs) (2.10)\n",
            "Requirement already satisfied: importlib-metadata; python_version < \"3.8\" in /usr/local/lib/python3.6/dist-packages (from markdown>=2.6.8->tensorboard<3,>=2.3.0->tensorflow<3,>=2.1.0->tensorflowjs) (2.0.0)\n",
            "Requirement already satisfied: pyasn1-modules>=0.2.1 in /usr/local/lib/python3.6/dist-packages (from google-auth<2,>=1.6.3->tensorboard<3,>=2.3.0->tensorflow<3,>=2.1.0->tensorflowjs) (0.2.8)\n",
            "Requirement already satisfied: cachetools<5.0,>=2.0.0 in /usr/local/lib/python3.6/dist-packages (from google-auth<2,>=1.6.3->tensorboard<3,>=2.3.0->tensorflow<3,>=2.1.0->tensorflowjs) (4.1.1)\n",
            "Requirement already satisfied: rsa<5,>=3.1.4; python_version >= \"3\" in /usr/local/lib/python3.6/dist-packages (from google-auth<2,>=1.6.3->tensorboard<3,>=2.3.0->tensorflow<3,>=2.1.0->tensorflowjs) (4.6)\n",
            "Requirement already satisfied: oauthlib>=3.0.0 in /usr/local/lib/python3.6/dist-packages (from requests-oauthlib>=0.7.0->google-auth-oauthlib<0.5,>=0.4.1->tensorboard<3,>=2.3.0->tensorflow<3,>=2.1.0->tensorflowjs) (3.1.0)\n",
            "Requirement already satisfied: zipp>=0.5 in /usr/local/lib/python3.6/dist-packages (from importlib-metadata; python_version < \"3.8\"->markdown>=2.6.8->tensorboard<3,>=2.3.0->tensorflow<3,>=2.1.0->tensorflowjs) (3.3.1)\n",
            "Requirement already satisfied: pyasn1<0.5.0,>=0.4.6 in /usr/local/lib/python3.6/dist-packages (from pyasn1-modules>=0.2.1->google-auth<2,>=1.6.3->tensorboard<3,>=2.3.0->tensorflow<3,>=2.1.0->tensorflowjs) (0.4.8)\n",
            "Installing collected packages: tensorflowjs\n",
            "Successfully installed tensorflowjs-2.7.0\n"
          ],
          "name": "stdout"
        },
        {
          "output_type": "stream",
          "text": [
            "/usr/local/lib/python3.6/dist-packages/tensorflowjs/converters/keras_h5_conversion.py:123: H5pyDeprecationWarning: The default file mode will change to 'r' (read-only) in h5py 3.0. To suppress this warning, pass the mode you need to h5py.File(), or set the global default h5.get_config().default_file_mode, or set the environment variable H5PY_DEFAULT_READONLY=1. Available modes are: 'r', 'r+', 'w', 'w-'/'x', 'a'. See the docs for details.\n",
            "  return h5py.File(h5file)\n"
          ],
          "name": "stderr"
        }
      ]
    },
    {
      "cell_type": "code",
      "metadata": {
        "id": "5J7V_IKYMwtp"
      },
      "source": [
        "model.save(\"/htr/trained_model.h5\")"
      ],
      "execution_count": 101,
      "outputs": []
    },
    {
      "cell_type": "markdown",
      "metadata": {
        "id": "of47jB9mMDLa"
      },
      "source": [
        "# transfering data to drive"
      ]
    },
    {
      "cell_type": "code",
      "metadata": {
        "id": "yvLSlyZhMCi-"
      },
      "source": [
        "#os.mkdir(\"/content/drive/My Drive/htr/\")\n",
        "shutil.copytree(\"/htr/tfjs_model\", \"/content/drive/My Drive/htr/tfjs_model\")\n",
        "shutil.copytree(\"/htr/trained.model/\", \"/content/drive/My Drive/htr/trained.model/\")\n",
        "shutil.copy(\"/htr/trained_model.h5\", \"/content/drive/My Drive/htr/\")"
      ],
      "execution_count": null,
      "outputs": []
    },
    {
      "cell_type": "markdown",
      "metadata": {
        "id": "TuORfGZ7POph"
      },
      "source": [
        "# Testing the Model"
      ]
    },
    {
      "cell_type": "code",
      "metadata": {
        "id": "Of0hUlC8Ovgk",
        "outputId": "b1a47f09-87cd-407c-a03b-003520e7cbfe",
        "colab": {
          "base_uri": "https://localhost:8080/",
          "height": 34
        }
      },
      "source": [
        "import tensorflow as tf\n",
        "from tensorflow import keras\n",
        "from tensorflow.keras.preprocessing.image import ImageDataGenerator\n",
        "import matplotlib.pyplot as plt\n",
        "from itertools import compress\n",
        "print(tf.version.VERSION)"
      ],
      "execution_count": 104,
      "outputs": [
        {
          "output_type": "stream",
          "text": [
            "2.3.0\n"
          ],
          "name": "stdout"
        }
      ]
    },
    {
      "cell_type": "code",
      "metadata": {
        "id": "Gm8cB0JbOvg-"
      },
      "source": [
        "model =  keras.models.load_model(\"/htr/trained.model\")"
      ],
      "execution_count": 105,
      "outputs": []
    },
    {
      "cell_type": "code",
      "metadata": {
        "id": "ycSK2uflOvhM"
      },
      "source": [
        "IMG_HEIGHT = 20\n",
        "IMG_WIDTH = 20"
      ],
      "execution_count": 106,
      "outputs": []
    },
    {
      "cell_type": "code",
      "metadata": {
        "id": "8NokcbexOvhc",
        "outputId": "f7d1ea15-bdb6-41f0-bf89-c249872ed924",
        "colab": {
          "base_uri": "https://localhost:8080/",
          "height": 34
        }
      },
      "source": [
        "normal_image_gen = ImageDataGenerator(\n",
        "    samplewise_center=True,\n",
        "    samplewise_std_normalization=True\n",
        ")\n",
        "test_data_gen = normal_image_gen.flow_from_directory(batch_size=5193,\n",
        "                                                     directory=\"/htr/dataset_by_class/\",\n",
        "                                                     color_mode=\"grayscale\",\n",
        "                                                     shuffle=False,\n",
        "                                                     target_size=(IMG_HEIGHT, IMG_WIDTH),\n",
        "                                                     class_mode=\"categorical\")"
      ],
      "execution_count": 107,
      "outputs": [
        {
          "output_type": "stream",
          "text": [
            "Found 36640 images belonging to 52 classes.\n"
          ],
          "name": "stdout"
        }
      ]
    },
    {
      "cell_type": "code",
      "metadata": {
        "id": "HTFWgpqbOvhq"
      },
      "source": [
        "test_images, test_labels = next(test_data_gen)\n",
        "filenames = test_data_gen.filenames\n",
        "test_pred = model.predict(test_images)"
      ],
      "execution_count": 108,
      "outputs": []
    },
    {
      "cell_type": "code",
      "metadata": {
        "id": "WW13xMU2Ovh2"
      },
      "source": [
        "true_labels = tf.argmax(test_labels,1)"
      ],
      "execution_count": 109,
      "outputs": []
    },
    {
      "cell_type": "code",
      "metadata": {
        "id": "gB8Ro7LYOviE"
      },
      "source": [
        "predicted_labels = tf.argmax(test_pred,1)"
      ],
      "execution_count": 110,
      "outputs": []
    },
    {
      "cell_type": "code",
      "metadata": {
        "id": "_qt7xnPMOviR"
      },
      "source": [
        "wrong = (true_labels != predicted_labels)"
      ],
      "execution_count": 111,
      "outputs": []
    },
    {
      "cell_type": "code",
      "metadata": {
        "id": "Wf8ApGfCOvie",
        "outputId": "4e1c0e54-677c-47c3-8a49-030545d44e33",
        "colab": {
          "base_uri": "https://localhost:8080/",
          "height": 72
        }
      },
      "source": [
        "wrong_images = test_images[wrong]\n",
        "wrong_true_labels = true_labels[wrong]\n",
        "wrong_prediced_labels = predicted_labels[wrong]\n",
        "print(f\"Got {wrong_images.shape[0]} wrong\")\n",
        "wrong_filenames = list(compress(filenames, wrong))\n",
        "print(wrong_filenames)"
      ],
      "execution_count": 112,
      "outputs": [
        {
          "output_type": "stream",
          "text": [
            "Got 838 wrong\n",
            "['A/10121.png', 'A/10319.png', 'A/10988.png', 'A/11203.png', 'A/13538.png', 'A/13589.png', 'A/13803.png', 'A/13855.png', 'A/14813.png', 'A/15103.png', 'A/16190.png', 'A/16292.png', 'A/16507.png', 'A/16611.png', 'A/17465.png', 'A/17807.png', 'A/17873.png', 'A/18077.png', 'A/18223.png', 'A/18431.png', 'A/2318.png', 'A/2363.png', 'A/2828.png', 'A/2883.png', 'A/3491.png', 'A/3559.png', 'A/3848.png', 'A/3923.png', 'A/431.png', 'A/439.png', 'A/686.png', 'A/699.png', 'A/7571.png', 'A/7719.png', 'A/8234.png', 'A/8336.png', 'A/8395.png', 'A/8499.png', 'A/9254.png', 'A/9305.png', 'A/9435.png', 'A/9487.png', 'B/10102.png', 'B/10112.png', 'B/10310.png', 'B/10316.png', 'B/10518.png', 'B/10928.png', 'B/10979.png', 'B/11132.png', 'B/11142.png', 'B/11194.png', 'B/11350.png', 'B/11489.png', 'B/11540.png', 'B/11591.png', 'B/11714.png', 'B/11766.png', 'B/11818.png', 'B/12101.png', 'B/12338.png', 'B/12356.png', 'B/1238.png', 'B/12509.png', 'B/12598.png', 'B/1262.png', 'B/12662.png', 'B/12713.png', 'B/12754.png', 'B/12815.png', 'B/12910.png', 'B/12962.png', 'B/13066.png', 'B/1340.png', 'B/13529.png', 'B/1366.png', 'B/13733.png', 'B/13784.png', 'B/13794.png', 'B/14002.png', 'B/14054.png', 'B/14141.png', 'B/14294.png', 'B/14418.png', 'B/14574.png', 'B/14804.png', 'B/15094.png', 'B/15365.png', 'B/15416.png', 'B/15666.png', 'B/15718.png', 'B/15977.png', 'B/16130.png', 'B/16181.png', 'B/16290.png', 'B/16446.png', 'B/16487.png', 'B/16498.png', 'B/167.png', 'B/16742.png', 'B/16810.png', 'B/16997.png', 'B/170.png', 'B/17048.png', 'B/17070.png', 'B/17330.png', 'B/17382.png', 'B/17456.png', 'B/17798.png', 'B/17813.png', 'B/17864.png', 'B/17915.png', 'B/18068.png', 'B/18162.png', 'B/18214.png', 'B/18266.png', 'B/18422.png', 'B/1952.png', 'B/1990.png', 'B/2309.png', 'B/2354.png', 'B/2360.png', 'B/2406.png', 'B/2615.png', 'B/2666.png', 'B/2819.png', 'B/2874.png', 'B/2921.png', 'B/2978.png', 'B/3431.png', 'B/3482.png', 'B/3498.png', 'B/3550.png', 'B/3839.png', 'B/3914.png', 'B/4094.png', 'B/4174.png', 'B/422.png', 'B/430.png', 'B/4757.png', 'B/4850.png', 'B/4961.png', 'B/5058.png', 'B/5114.png', 'B/5165.png', 'B/5214.png', 'B/5266.png', 'B/5420.png', 'B/5526.png', 'B/5624.png', 'B/5734.png', 'B/6389.png', 'B/6514.png', 'B/6542.png', 'B/6670.png', 'B/7562.png', 'B/7710.png', 'B/7919.png', 'B/8074.png', 'B/8276.png', 'B/8327.png', 'B/8378.png', 'B/8438.png', 'B/8490.png', 'B/8542.png', 'B/8633.png', 'B/8802.png', 'B/8939.png', 'B/9114.png', 'B/9245.png', 'B/9296.png', 'B/9426.png', 'B/9478.png', 'B/9653.png', 'B/9842.png', 'B/9908.png', 'C/10078.png', 'C/1010.png', 'C/10130.png', 'C/10139.png', 'C/10182.png', 'C/1030.png', 'C/10338.png', 'C/1061.png', 'C/1082.png', 'C/11006.png', 'C/11057.png', 'C/11222.png', 'C/11274.png', 'C/11516.png', 'C/11618.png', 'C/11742.png', 'C/11846.png', 'C/11975.png', 'C/12210.png', 'C/12332.png', 'C/12574.png', 'C/1265.png', 'C/12689.png', 'C/12740.png', 'C/12842.png', 'C/1290.png', 'C/12938.png', 'C/12990.png', 'C/13094.png', 'C/13097.png', 'C/13354.png', 'C/13556.png', 'C/13607.png', 'C/13811.png', 'C/13822.png', 'C/13874.png', 'C/14082.png', 'C/14219.png', 'C/14321.png', 'C/14372.png', 'C/14498.png', 'C/14602.png', 'C/14654.png', 'C/14831.png', 'C/15122.png', 'C/15443.png', 'C/15494.png', 'C/15596.png', 'C/15746.png', 'C/15798.png', 'C/15851.png', 'C/15902.png', 'C/16162.png', 'C/1622.png', 'C/16310.png', 'C/1654.png', 'C/16630.png', 'C/16769.png', 'C/17024.png', 'C/17075.png', 'C/17098.png', 'C/17126.png', 'C/17358.png', 'C/17381.png', 'C/17410.png', 'C/17432.png', 'C/17462.png', 'C/17585.png', 'C/17722.png', 'C/17774.png', 'C/17891.png', 'C/17930.png', 'C/18197.png', 'C/18242.png', 'C/18554.png', 'C/1928.png', 'C/194.png', 'C/1966.png', 'C/198.png', 'C/2336.png', 'C/2382.png', 'C/245.png', 'C/250.png', 'C/2591.png', 'C/2642.png', 'C/2694.png', 'C/2846.png', 'C/2902.png', 'C/296.png', 'C/302.png', 'C/3458.png', 'C/3509.png', 'C/3526.png', 'C/3578.png', 'C/3866.png', 'C/3942.png', 'C/4019.png', 'C/4098.png', 'C/4478.png', 'C/4566.png', 'C/4937.png', 'C/500.png', 'C/5034.png', 'C/510.png', 'C/5141.png', 'C/5242.png', 'C/5447.png', 'C/5554.png', 'C/5651.png', 'C/5762.png', 'C/5855.png', 'C/5970.png', 'C/6059.png', 'C/6178.png', 'C/6569.png', 'C/6698.png', 'C/7487.png', 'C/7589.png', 'C/7634.png', 'C/7738.png', 'C/8354.png', 'C/8507.png', 'C/8518.png', 'C/8609.png', 'C/8660.png', 'C/8674.png', 'C/8778.png', 'C/8830.png', 'C/8966.png', 'C/9142.png', 'C/9221.png', 'C/9272.png', 'C/9323.png', 'C/9402.png', 'C/9454.png', 'C/9476.png', 'C/9506.png', 'C/9662.png', 'C/9680.png', 'C/9870.png', 'C/9884.png', 'C/9935.png', 'C/9986.png', 'D/10128.png', 'D/11004.png', 'D/1110.png', 'D/11157.png', 'D/11220.png', 'D/1132.png', 'D/11376.png', 'D/12381.png', 'D/12624.png', 'D/12687.png', 'D/12738.png', 'D/12936.png', 'D/12988.png', 'D/13554.png', 'D/13605.png', 'D/13820.png', 'D/13872.png', 'D/13962.png', 'D/14236.png', 'D/14319.png', 'D/14600.png', 'D/17481.png', 'D/17824.png', 'D/17838.png', 'D/17889.png', 'D/18093.png', 'D/18188.png', 'D/18240.png', 'D/18448.png', 'D/2181.png', 'D/2224.png', 'D/2334.png', 'D/2380.png', 'D/243.png', 'D/248.png', 'D/3099.png', 'D/3160.png', 'D/3456.png', 'D/3507.png', 'D/3524.png', 'D/3576.png', 'D/3864.png', 'D/3940.png', 'D/396.png', 'D/4017.png', 'D/404.png', 'D/4096.png', 'D/447.png', 'D/4476.png', 'D/456.png', 'D/4564.png', 'D/498.png', 'D/508.png', 'D/5853.png', 'D/5968.png', 'D/600.png', 'D/612.png', 'D/7485.png', 'D/7632.png', 'D/7740.png', 'D/7892.png', 'D/8148.png', 'D/8308.png', 'D/8352.png', 'D/8505.png', 'D/8516.png', 'D/8607.png', 'D/8658.png', 'D/8672.png', 'D/8776.png', 'D/8828.png', 'D/8964.png', 'D/9140.png', 'D/9219.png', 'D/9270.png', 'D/9321.png', 'D/9400.png', 'D/9452.png', 'D/9504.png', 'D/9678.png', 'D/9868.png', 'D/9933.png', 'E/10031.png', 'E/10083.png', 'E/10093.png', 'E/10135.png', 'E/10144.png', 'E/10187.png', 'E/10291.png', 'E/10343.png', 'E/10348.png', 'E/10551.png', 'E/10960.png', 'E/11011.png', 'E/11062.png', 'E/11164.png', 'E/11175.png', 'E/11215.png', 'E/11227.png', 'E/11279.png', 'E/11317.png', 'E/11368.png', 'E/11383.png', 'E/11435.png', 'E/11539.png', 'E/11591.png', 'E/11623.png', 'E/11851.png', 'E/11980.png', 'E/12133.png', 'E/12215.png', 'E/12337.png', 'E/12371.png', 'E/12388.png', 'E/12541.png', 'E/12579.png', 'E/12631.png', 'E/12694.png', 'E/12745.png', 'E/12787.png', 'E/12847.png', 'E/12943.png', 'E/12995.png', 'E/13099.png', 'E/13102.png', 'E/1321.png', 'E/13359.png', 'E/1347.png', 'E/13612.png', 'E/1372.png', 'E/13765.png', 'E/13867.png', 'E/13879.png', 'E/1399.png', 'E/14035.png', 'E/14139.png', 'E/14173.png', 'E/14275.png', 'E/14326.png', 'E/14377.png', 'E/14451.png', 'E/14555.png', 'E/14607.png', 'E/14659.png', 'E/14683.png', 'E/14836.png', 'E/14971.png', 'E/14989.png', 'E/15091.png', 'E/15127.png', 'E/15283.png', 'E/15346.png', 'E/15387.png', 'E/15397.png', 'E/15601.png', 'E/15647.png', 'E/15699.png', 'E/15805.png', 'E/15907.png', 'E/15958.png', 'E/16115.png', 'E/16162.png', 'E/16271.png', 'E/16479.png', 'E/16774.png', 'E/16978.png', 'E/17080.png', 'E/17103.png', 'E/17131.png', 'E/17233.png', 'E/17311.png', 'E/17386.png', 'E/17415.png', 'E/17467.png', 'E/17488.png', 'E/17571.png', 'E/17590.png', 'E/17727.png', 'E/1780.png', 'E/17831.png', 'E/17845.png', 'E/17896.png', 'E/17935.png', 'E/17947.png', 'E/18100.png', 'E/1815.png', 'E/18195.png', 'E/18247.png', 'E/18253.png', 'E/18299.png', 'E/18455.png', 'E/18611.png', 'E/1882.png', 'E/1919.png', 'E/1984.png', 'E/2023.png', 'E/2341.png', 'E/2387.png', 'E/2698.png', 'E/2699.png', 'E/2751.png', 'E/2851.png', 'E/2907.png', 'E/301.png', 'E/307.png', 'E/3106.png', 'E/3167.png', 'E/3463.png', 'E/3514.png', 'E/3531.png', 'E/3583.png', 'E/3769.png', 'E/3843.png', 'E/3871.png', 'E/3947.png', 'E/4534.png', 'E/454.png', 'E/4623.png', 'E/463.png', 'E/4942.png', 'E/5039.png', 'E/5146.png', 'E/5247.png', 'E/5656.png', 'E/5758.png', 'E/5767.png', 'E/5860.png', 'E/5871.png', 'E/5962.png', 'E/5975.png', 'E/6013.png', 'E/6079.png', 'E/6115.png', 'E/6131.png', 'E/6235.png', 'E/6268.png', 'E/6391.png', 'E/7594.png', 'E/7743.png', 'E/7747.png', 'E/7849.png', 'E/7899.png', 'E/7900.png', 'E/8003.png', 'E/8055.png', 'E/8104.png', 'E/8107.png', 'E/8206.png', 'E/8257.png', 'E/8263.png', 'E/8359.png', 'E/8367.png', 'E/8410.png', 'E/8419.png', 'E/8461.png', 'E/8512.png', 'E/8523.png', 'E/8563.png', 'E/8575.png', 'E/8614.png', 'E/8627.png', 'E/8665.png', 'E/8679.png', 'E/8731.png', 'E/8783.png', 'E/8835.png', 'E/8971.png', 'E/9147.png', 'E/9226.png', 'E/9328.png', 'E/9379.png', 'E/9407.png', 'E/9481.png', 'E/9511.png', 'E/9563.png', 'E/9667.png', 'E/9838.png', 'E/9889.png', 'E/9940.png', 'E/9991.png', 'F/10096.png', 'F/10148.png', 'F/10973.png', 'F/11024.png', 'F/11126.png', 'F/11188.png', 'F/11240.png', 'F/11279.png', 'F/11344.png', 'F/11500.png', 'F/11585.png', 'F/11812.png', 'F/11942.png', 'F/12176.png', 'F/12656.png', 'F/12707.png', 'F/12809.png', 'F/12904.png', 'F/12956.png', 'F/13060.png', 'F/13574.png', 'F/13727.png', 'F/13840.png', 'F/13996.png', 'F/14135.png', 'F/14288.png', 'F/14412.png', 'F/14568.png', 'F/14645.png', 'F/14932.png', 'F/14951.png', 'F/15244.png', 'F/15308.png', 'F/15410.png', 'F/15608.png', 'F/15712.png', 'F/16430.png', 'F/16736.png', 'F/16752.png', 'F/16838.png', 'F/16889.png', 'F/16940.png', 'F/17064.png', 'F/17168.png', 'F/17220.png', 'F/17272.png', 'F/17348.png', 'F/17450.png', 'F/17501.png', 'F/17552.png', 'F/17688.png', 'F/17792.png', 'F/17807.png', 'F/17844.png', 'F/17858.png', 'F/17896.png', 'F/18062.png', 'F/18156.png', 'F/18208.png', 'F/18215.png', 'F/18416.png', 'F/1844.png', 'F/18572.png', 'F/1880.png', 'F/2303.png', 'F/2348.png', 'F/2762.png', 'F/2816.png', 'F/3425.png', 'F/3476.png', 'F/3492.png', 'F/3544.png', 'F/365.png', 'F/372.png', 'F/3731.png', 'F/3804.png', 'F/3833.png', 'F/3908.png', 'F/3986.png', 'F/4064.png', 'F/416.png', 'F/424.png', 'F/4445.png', 'F/4496.png', 'F/4532.png', 'F/4584.png', 'F/5363.png', 'F/5468.png', 'F/569.png', 'F/580.png', 'F/5822.png', 'F/5924.png', 'F/5936.png', 'F/6040.png', 'F/6077.png', 'F/6196.png', 'F/6230.png', 'F/6352.png', 'F/671.png', 'F/684.png', 'F/7556.png', 'F/7704.png', 'F/7709.png', 'F/7860.png', 'F/7862.png', 'F/7913.png', 'F/8.png', 'F/8016.png', 'F/8068.png', 'F/8219.png', 'F/8321.png', 'F/8380.png', 'F/8423.png', 'F/8484.png', 'F/8576.png', 'F/8588.png', 'F/8744.png', 'F/8984.png', 'F/9160.png', 'F/9188.png', 'F/9368.png', 'F/9443.png', 'F/9628.png', 'F/9647.png', 'F/9836.png', 'F/9902.png', 'F/9953.png', 'G/10045.png', 'G/10097.png', 'G/10107.png', 'G/10305.png', 'G/10311.png', 'G/10513.png', 'G/11127.png', 'G/11345.png', 'G/12147.png', 'G/12300.png', 'G/12351.png', 'G/12385.png', 'G/12541.png', 'G/12593.png', 'G/12657.png', 'G/12708.png', 'G/12905.png', 'G/12957.png', 'G/13116.png', 'G/1335.png', 'G/13373.png', 'G/13524.png', 'G/1361.png', 'G/13789.png', 'G/14289.png', 'G/14569.png', 'G/14952.png', 'G/15245.png', 'G/16176.png', 'G/16493.png', 'G/17451.png', 'G/17553.png', 'G/17793.png', 'G/17897.png', 'G/213.png', 'G/217.png', 'G/2304.png', 'G/2349.png', 'G/2610.png', 'G/2661.png', 'G/2814.png', 'G/2869.png', 'G/3069.png', 'G/3129.png', 'G/3426.png', 'G/3493.png', 'G/3834.png', 'G/3909.png', 'G/417.png', 'G/425.png', 'G/4446.png', 'G/4497.png', 'G/4533.png', 'G/4585.png', 'G/5619.png', 'G/570.png', 'G/5729.png', 'G/581.png', 'G/5823.png', 'G/5937.png', 'G/7455.png', 'G/7557.png', 'G/7601.png', 'G/7705.png', 'G/8118.png', 'G/8277.png', 'G/8322.png', 'G/8424.png', 'G/8485.png', 'G/8577.png', 'G/8589.png', 'G/8628.png', 'G/8745.png', 'G/8797.png', 'G/8934.png', 'G/9109.png', 'G/9240.png', 'G/9291.png', 'G/9421.png', 'G/9473.png', 'G/9852.png', 'G/9903.png', 'H/10037.png', 'H/10099.png', 'H/10297.png', 'H/10966.png', 'H/11181.png', 'H/11323.png', 'H/11374.png', 'H/11545.png', 'H/11597.png', 'H/12190.png', 'H/12343.png', 'H/12429.png', 'H/12585.png', 'H/12700.png', 'H/12751.png', 'H/12949.png', 'H/13001.png', 'H/13465.png', 'H/13516.png', 'H/13567.png', 'H/13729.png', 'H/13771.png', 'H/13781.png', 'H/13833.png', 'H/13924.png', 'H/14026.png', 'H/14041.png', 'H/14197.png', 'H/14301.png', 'H/14944.png']\n"
          ],
          "name": "stdout"
        }
      ]
    },
    {
      "cell_type": "code",
      "metadata": {
        "id": "tJX4grypOviq",
        "outputId": "a13d43f6-4b79-42fe-8a7f-82768ec26583",
        "colab": {
          "base_uri": "https://localhost:8080/",
          "height": 864
        }
      },
      "source": [
        "def plot_images(images, true_labels, pred_labels):\n",
        "    fig = plt.figure(figsize=(13, 15))\n",
        "    columns = 5\n",
        "    rows = 5\n",
        "\n",
        "    # ax enables access to manipulate each of subplots\n",
        "    ax = []\n",
        "\n",
        "    for i in range(min(images.shape[0], columns*rows)):\n",
        "        img = images[i]\n",
        "        # create subplot and append to ax\n",
        "        ax.append( fig.add_subplot(rows, columns, i+1) )\n",
        "        ax[-1].set_title(f\"{true_labels[i]+1} != {pred_labels[i]+1}\")\n",
        "        plt.imshow(img.reshape(IMG_WIDTH, IMG_HEIGHT), cmap=\"gray\")\n",
        "    \n",
        "    plt.show()\n",
        "\n",
        "plot_images(wrong_images, wrong_true_labels, wrong_prediced_labels)"
      ],
      "execution_count": 113,
      "outputs": [
        {
          "output_type": "display_data",
          "data": {
            "image/png": "[encoded data removed]",
            "text/plain": [
              "<Figure size 936x1080 with 25 Axes>"
            ]
          },
          "metadata": {
            "tags": [],
            "needs_background": "light"
          }
        }
      ]
    },
    {
      "cell_type": "code",
      "metadata": {
        "id": "KKlg1dYWPfdQ"
      },
      "source": [
        ""
      ],
      "execution_count": null,
      "outputs": []
    }
  ]
}