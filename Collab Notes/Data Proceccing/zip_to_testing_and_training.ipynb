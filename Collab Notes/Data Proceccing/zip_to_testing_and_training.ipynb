{
  "nbformat": 4,
  "nbformat_minor": 0,
  "metadata": {
    "colab": {
      "name": "zip to testing and training.ipynb",
      "provenance": [],
      "collapsed_sections": [],
      "toc_visible": true
    },
    "kernelspec": {
      "display_name": "Python 3",
      "language": "python",
      "name": "python3"
    },
    "language_info": {
      "codemirror_mode": {
        "name": "ipython",
        "version": 3
      },
      "file_extension": ".py",
      "mimetype": "text/x-python",
      "name": "python",
      "nbconvert_exporter": "python",
      "pygments_lexer": "ipython3",
      "version": "3.7.7"
    }
  },
  "cells": [
    {
      "cell_type": "markdown",
      "metadata": {
        "id": "3DR-eO17geWu"
      },
      "source": [
        "# Convolutional Neural Network"
      ]
    },
    {
      "cell_type": "markdown",
      "metadata": {
        "id": "EMefrVPCg-60"
      },
      "source": [
        "### Importing the libraries"
      ]
    },
    {
      "cell_type": "code",
      "metadata": {
        "id": "sCV30xyVhFbE"
      },
      "source": [
        "import tensorflow as tf\n",
        "from keras.preprocessing.image import ImageDataGenerator"
      ],
      "execution_count": null,
      "outputs": []
    },
    {
      "cell_type": "code",
      "metadata": {
        "id": "pvKOtiB7YzEV"
      },
      "source": [
        "tf.config.experimental.list_physical_devices('GPU')"
      ],
      "execution_count": null,
      "outputs": []
    },
    {
      "cell_type": "code",
      "metadata": {
        "id": "pFBgH5XeD9X9"
      },
      "source": [
        "from zipfile import ZipFile  \n",
        "with ZipFile(\"NMIST.zip\", 'r') as zip: \n",
        "\tzip.printdir() \n",
        "\tzip.extractall() "
      ],
      "execution_count": null,
      "outputs": []
    },
    {
      "cell_type": "code",
      "metadata": {
        "id": "bwibehWLCID8"
      },
      "source": [
        "\"\"\"import os\n",
        "import shutil\n",
        "import urllib.request\n",
        "\n",
        "urllib.request.urlretrieve('https://doc-08-44-docs.googleusercontent.com/docs/securesc/629nu66bhndar08nsju632cjobu8brh8/4kufgbjk99lqlsrtmopdlc15p82vm896/1601442150000/01559435892829418029/01847285585609461940/1CsPGWmMoC378DPtfNouKr45HorEvAop-?e=download&authuser=0', 'data.zip')\n",
        "\"\"\"\n",
        "from zipfile import ZipFile  \n",
        "with ZipFile(\"/content/drive/My Drive/Copy of SaleWebDesign.com-Blockchain-A-Z-Build.zip\", 'r') as zip: \n",
        "\tzip.printdir() \n",
        "\tzip.extractall() "
      ],
      "execution_count": null,
      "outputs": []
    },
    {
      "cell_type": "code",
      "metadata": {
        "id": "Ygm2LLE-4NBr",
        "outputId": "7cff3f50-8bfd-4942-a538-5272a3fa2fc3",
        "colab": {
          "base_uri": "https://localhost:8080/",
          "height": 34
        }
      },
      "source": [
        "from google.colab import drive\n",
        "drive.mount('/content/drive')"
      ],
      "execution_count": null,
      "outputs": [
        {
          "output_type": "stream",
          "text": [
            "Mounted at /content/drive\n"
          ],
          "name": "stdout"
        }
      ]
    },
    {
      "cell_type": "code",
      "metadata": {
        "id": "jFPvFxk5l4gK",
        "outputId": "f549e992-280c-4334-ee16-7b8dc2b3b1f8",
        "colab": {
          "base_uri": "https://localhost:8080/",
          "height": 35
        }
      },
      "source": [
        "import shutil\n",
        "shutil.move(\"/content/SaleWebDesign.com-Blockchain-A-Z-Build\", \"/content/drive/My Drive/BlockChainAToZ/\")\n",
        "#os.listdir(\"/content/images/72/hsf_3\")\n",
        "#shutil.rmtree(\"/content/training/\")\n",
        "#!ls /content/images/71\n",
        "#shutil.rmtree(\"/content/training_small/\")\n",
        "#shutil.rmtree(\"/content/testing_small/\")"
      ],
      "execution_count": null,
      "outputs": [
        {
          "output_type": "execute_result",
          "data": {
            "application/vnd.google.colaboratory.intrinsic+json": {
              "type": "string"
            },
            "text/plain": [
              "'/content/drive/My Drive/BlockChainAToZ/'"
            ]
          },
          "metadata": {
            "tags": []
          },
          "execution_count": 5
        }
      ]
    },
    {
      "cell_type": "code",
      "metadata": {
        "id": "g1YuXgG2cf1-"
      },
      "source": [
        "import os\n",
        "import shutil\n",
        "os.mkdir(\"images\")\n",
        "os.mkdir(\"training\")\n",
        "os.mkdir(\"testing\")\n",
        "for i in os.listdir(\"by_class\"):\n",
        "  os.mkdir(\"training/\"+i)\n",
        "  os.mkdir(\"testing/\"+i)\n",
        "  os.mkdir(\"images/\"+i)"
      ],
      "execution_count": null,
      "outputs": []
    },
    {
      "cell_type": "code",
      "metadata": {
        "id": "sXT2wDcMoI2L"
      },
      "source": [
        "file_paths = []\n",
        "for root, directories, files in os.walk(\"by_class/\"):\n",
        "    for filename in files:\n",
        "        filepath = os.path.join(root, filename)\n",
        "        file_paths.append(filepath)"
      ],
      "execution_count": null,
      "outputs": []
    },
    {
      "cell_type": "code",
      "metadata": {
        "id": "GZQC0fa9YzE7"
      },
      "source": [
        "file_paths[0]"
      ],
      "execution_count": null,
      "outputs": []
    },
    {
      "cell_type": "code",
      "metadata": {
        "id": "3B2iE5SqYzFB"
      },
      "source": [
        "#all images moved into images\n",
        "for i in file_paths:\n",
        "    i_split = i.split(\"/\")\n",
        "    class_name = i_split[1]\n",
        "    ext_name = i_split[-1][-4:]\n",
        "    file_name = i_split[-1]\n",
        "    #print(f\"i_split :{i_split}, classname: {class_name}, ext_name: {ext_name}, file_name = {filename}\")\n",
        "    if ext_name == \".png\":\n",
        "        shutil.move(i, \"images/\"+class_name+\"/\")"
      ],
      "execution_count": null,
      "outputs": []
    },
    {
      "cell_type": "code",
      "metadata": {
        "id": "1BGHDlm6nOE1"
      },
      "source": [
        "#moving files from images to training and testing\n",
        "train_size_per = .8\n",
        "for i in os.listdir(\"images/\"):\n",
        "    #getting image file\n",
        "    file_paths = []\n",
        "    for root, directories, files in os.walk(\"images/\"+i):\n",
        "        for filename in files:\n",
        "            filepath = os.path.join(root, filename)\n",
        "            file_paths.append(filepath)\n",
        "    \n",
        "    count = 0\n",
        "    train_size = int(len(file_paths)*0.8)\n",
        "    for j in file_paths:\n",
        "        if count <= train_size:\n",
        "            shutil.move(j, \"training/\"+i+\"/\")\n",
        "        else:\n",
        "            shutil.move(j, \"testing/\"+i+\"/\")\n",
        "        count += 1"
      ],
      "execution_count": null,
      "outputs": []
    },
    {
      "cell_type": "markdown",
      "metadata": {
        "id": "YRmvfcUJ5-oz"
      },
      "source": [
        "# Testing on small data size with 100 images of each for training and 20 for testing "
      ]
    },
    {
      "cell_type": "code",
      "metadata": {
        "id": "ffujFHcc59RK"
      },
      "source": [
        "#moving files from images to training and testing\n",
        "\n",
        "os.mkdir(\"training_small\")\n",
        "os.mkdir(\"testing_small\")\n",
        "for i in os.listdir(\"/content/by_class\"):\n",
        "  os.mkdir(\"training_small/\"+i)\n",
        "  os.mkdir(\"testing_small/\"+i)\n",
        "\n",
        "for i in os.listdir(\"/content/training/\"):  \n",
        "  train_size_count = 0\n",
        "  test_size_count = 0\n",
        "  for root, directories, files in os.walk(\"/content/training/\"+i):\n",
        "      for filename in files:\n",
        "          filepath = os.path.join(root, filename)\n",
        "          if train_size_count <= 100:\n",
        "            shutil.copy2(filepath, \"/content/training_small/\"+i+\"/\")\n",
        "            train_size_count += 1\n",
        "          elif test_size_count <= 20:\n",
        "            shutil.copy2(filepath, \"/content/testing_small/\"+i+\"/\")\n",
        "            test_size_count += 1\n",
        "          else:\n",
        "            break"
      ],
      "execution_count": null,
      "outputs": []
    }
  ]
}