{
  "nbformat": 4,
  "nbformat_minor": 0,
  "metadata": {
    "colab": {
      "name": "NIST CNN.ipynb",
      "provenance": [],
      "collapsed_sections": [],
      "toc_visible": true
    },
    "kernelspec": {
      "display_name": "Python 3",
      "language": "python",
      "name": "python3"
    }
  },
  "cells": [
    {
      "cell_type": "markdown",
      "metadata": {
        "id": "3DR-eO17geWu"
      },
      "source": [
        "# Convolutional Neural Network"
      ]
    },
    {
      "cell_type": "markdown",
      "metadata": {
        "id": "EMefrVPCg-60"
      },
      "source": [
        "### Importing the libraries"
      ]
    },
    {
      "cell_type": "code",
      "metadata": {
        "id": "sCV30xyVhFbE"
      },
      "source": [
        "import tensorflow as tf\n",
        "from keras.preprocessing.image import ImageDataGenerator"
      ],
      "execution_count": null,
      "outputs": []
    },
    {
      "cell_type": "code",
      "metadata": {
        "id": "bwibehWLCID8"
      },
      "source": [
        "import os\n",
        "import shutil\n",
        "import urllib.request\n",
        "\n",
        "urllib.request.urlretrieve('https://s3.amazonaws.com/nist-srd/SD19/by_class.zip', 'data.zip')\n",
        "\n",
        "from zipfile import ZipFile  \n",
        "with ZipFile(\"data.zip\", 'r') as zip: \n",
        "\tzip.printdir() \n",
        "\tzip.extractall()"
      ],
      "execution_count": null,
      "outputs": []
    },
    {
      "cell_type": "code",
      "metadata": {
        "id": "jFPvFxk5l4gK"
      },
      "source": [
        "#shutil.move(\"/content/sample_data/mnist_test.csv\", \"/content/tt/\")\n",
        "#os.listdir(\"/content/images/72/hsf_3\")\n",
        "#shutil.rmtree(\"/content/training/\")\n",
        "#!ls /content/images/71\n",
        "#shutil.rmtree(\"/content/training_small/\")\n",
        "#shutil.rmtree(\"/content/testing_small/\")"
      ],
      "execution_count": null,
      "outputs": []
    },
    {
      "cell_type": "code",
      "metadata": {
        "id": "g1YuXgG2cf1-"
      },
      "source": [
        "os.mkdir(\"images\")\n",
        "os.mkdir(\"training\")\n",
        "os.mkdir(\"testing\")\n",
        "for i in os.listdir(\"/content/by_class\"):\n",
        "  os.mkdir(\"training/\"+i)\n",
        "  os.mkdir(\"testing/\"+i)\n",
        "  os.mkdir(\"images/\"+i)"
      ],
      "execution_count": null,
      "outputs": []
    },
    {
      "cell_type": "code",
      "metadata": {
        "id": "sXT2wDcMoI2L"
      },
      "source": [
        "file_paths = []\n",
        "for root, directories, files in os.walk(\"/content/by_class\"):\n",
        "    for filename in files:\n",
        "        filepath = os.path.join(root, filename)\n",
        "        file_paths.append(filepath)\n",
        "        \n",
        "#all images moved into images\n",
        "for i in file_paths:\n",
        "  i_split = i.split(\"/\")\n",
        "  class_name = i_split[3]\n",
        "  ext_name = i_split[-1][-4:]\n",
        "  file_name = i_split[-1]\n",
        "  #print(f\"i_split :{i_split}, classname: {class_name}, ext_name: {ext_name}, file_name = {filename}\")\n",
        "  if ext_name == \".png\":\n",
        "    shutil.move(i, \"/content/images/\"+class_name+\"/\")"
      ],
      "execution_count": null,
      "outputs": []
    },
    {
      "cell_type": "code",
      "metadata": {
        "id": "1BGHDlm6nOE1"
      },
      "source": [
        "#moving files from images to training and testing\n",
        "train_size_per = .8\n",
        "for i in os.listdir(\"/content/images/\"):\n",
        "  #getting image files\n",
        "  file_paths = []\n",
        "  for root, directories, files in os.walk(\"/content/images/\"+i):\n",
        "      for filename in files:\n",
        "          filepath = os.path.join(root, filename)\n",
        "          file_paths.append(filepath)\n",
        "\n",
        "  count = 0\n",
        "  train_size = int(len(file_paths)*0.8)\n",
        "  for j in file_paths:\n",
        "      if count <= train_size:\n",
        "        shutil.move(j, \"/content/training/\"+i+\"/\")\n",
        "      else:\n",
        "        shutil.move(j, \"/content/testing/\"+i+\"/\")\n",
        "      count += 1"
      ],
      "execution_count": null,
      "outputs": []
    },
    {
      "cell_type": "markdown",
      "metadata": {
        "id": "YRmvfcUJ5-oz"
      },
      "source": [
        "# Testing on small data size with 100 images of each for training and 20 for testing "
      ]
    },
    {
      "cell_type": "code",
      "metadata": {
        "id": "ffujFHcc59RK"
      },
      "source": [
        "#moving files from images to training and testing\n",
        "\n",
        "os.mkdir(\"training_small\")\n",
        "os.mkdir(\"testing_small\")\n",
        "for i in os.listdir(\"/content/by_class\"):\n",
        "  os.mkdir(\"training_small/\"+i)\n",
        "  os.mkdir(\"testing_small/\"+i)\n",
        "\n",
        "for i in os.listdir(\"/content/training/\"):  \n",
        "  train_size_count = 0\n",
        "  test_size_count = 0\n",
        "  for root, directories, files in os.walk(\"/content/training/\"+i):\n",
        "      for filename in files:\n",
        "          filepath = os.path.join(root, filename)\n",
        "          if train_size_count <= 100:\n",
        "            shutil.copy2(filepath, \"/content/training_small/\"+i+\"/\")\n",
        "            train_size_count += 1\n",
        "          elif test_size_count <= 20:\n",
        "            shutil.copy2(filepath, \"/content/testing_small/\"+i+\"/\")\n",
        "            test_size_count += 1\n",
        "          else:\n",
        "            break"
      ],
      "execution_count": null,
      "outputs": []
    },
    {
      "cell_type": "markdown",
      "metadata": {
        "id": "oxQxCBWyoGPE"
      },
      "source": [
        "## Part 1 - Data Preprocessing"
      ]
    },
    {
      "cell_type": "markdown",
      "metadata": {
        "id": "MvE-heJNo3GG"
      },
      "source": [
        "### Preprocessing the Training set"
      ]
    },
    {
      "cell_type": "code",
      "metadata": {
        "id": "0koUcJMJpEBD",
        "outputId": "527b4035-95e3-4774-c24d-bb1049d3ff82",
        "colab": {
          "base_uri": "https://localhost:8080/",
          "height": 34
        }
      },
      "source": [
        "train_datagen = ImageDataGenerator(rescale = 1./255,\n",
        "                                   shear_range = 0.2,\n",
        "                                   zoom_range = 0.2,\n",
        "                                   horizontal_flip = True)\n",
        "training_set = train_datagen.flow_from_directory('/content/training/',\n",
        "                                                 target_size = (64, 64),\n",
        "                                                 batch_size = 32,\n",
        "                                                 class_mode = 'binary')"
      ],
      "execution_count": null,
      "outputs": [
        {
          "output_type": "stream",
          "text": [
            "Found 1236778 images belonging to 62 classes.\n"
          ],
          "name": "stdout"
        }
      ]
    },
    {
      "cell_type": "markdown",
      "metadata": {
        "id": "mrCMmGw9pHys"
      },
      "source": [
        "### Preprocessing the Test set"
      ]
    },
    {
      "cell_type": "code",
      "metadata": {
        "id": "SH4WzfOhpKc3",
        "outputId": "6c67022f-1e42-4c32-be95-3bf4fa2f9edb",
        "colab": {
          "base_uri": "https://localhost:8080/",
          "height": 34
        }
      },
      "source": [
        "test_datagen = ImageDataGenerator(rescale = 1./255)\n",
        "test_set = test_datagen.flow_from_directory('/content/testing/',\n",
        "                                            target_size = (64, 64),\n",
        "                                            batch_size = 32,\n",
        "                                            class_mode = 'binary')"
      ],
      "execution_count": null,
      "outputs": [
        {
          "output_type": "stream",
          "text": [
            "Found 309145 images belonging to 62 classes.\n"
          ],
          "name": "stdout"
        }
      ]
    },
    {
      "cell_type": "markdown",
      "metadata": {
        "id": "af8O4l90gk7B"
      },
      "source": [
        "## Part 2 - Building the CNN"
      ]
    },
    {
      "cell_type": "markdown",
      "metadata": {
        "id": "ces1gXY2lmoX"
      },
      "source": [
        "### Initialising the CNN"
      ]
    },
    {
      "cell_type": "code",
      "metadata": {
        "id": "SAUt4UMPlhLS"
      },
      "source": [
        "cnn = tf.keras.models.Sequential()"
      ],
      "execution_count": null,
      "outputs": []
    },
    {
      "cell_type": "markdown",
      "metadata": {
        "id": "u5YJj_XMl5LF"
      },
      "source": [
        "### Step 1 - Convolution"
      ]
    },
    {
      "cell_type": "code",
      "metadata": {
        "id": "XPzPrMckl-hV"
      },
      "source": [
        "cnn.add(tf.keras.layers.Conv2D(filters=32, kernel_size=3, activation='relu', input_shape=[64, 64, 3]))"
      ],
      "execution_count": null,
      "outputs": []
    },
    {
      "cell_type": "markdown",
      "metadata": {
        "id": "tf87FpvxmNOJ"
      },
      "source": [
        "### Step 2 - Pooling"
      ]
    },
    {
      "cell_type": "code",
      "metadata": {
        "id": "ncpqPl69mOac"
      },
      "source": [
        "cnn.add(tf.keras.layers.MaxPool2D(pool_size=2, strides=2))"
      ],
      "execution_count": null,
      "outputs": []
    },
    {
      "cell_type": "markdown",
      "metadata": {
        "id": "xaTOgD8rm4mU"
      },
      "source": [
        "### Adding a second convolutional layer"
      ]
    },
    {
      "cell_type": "code",
      "metadata": {
        "id": "i_-FZjn_m8gk"
      },
      "source": [
        "cnn.add(tf.keras.layers.Conv2D(filters=32, kernel_size=3, activation='relu'))\n",
        "cnn.add(tf.keras.layers.MaxPool2D(pool_size=2, strides=2))"
      ],
      "execution_count": null,
      "outputs": []
    },
    {
      "cell_type": "markdown",
      "metadata": {
        "id": "tmiEuvTunKfk"
      },
      "source": [
        "### Step 3 - Flattening"
      ]
    },
    {
      "cell_type": "code",
      "metadata": {
        "id": "6AZeOGCvnNZn"
      },
      "source": [
        "cnn.add(tf.keras.layers.Flatten())"
      ],
      "execution_count": null,
      "outputs": []
    },
    {
      "cell_type": "markdown",
      "metadata": {
        "id": "dAoSECOm203v"
      },
      "source": [
        "### Step 4 - Full Connection"
      ]
    },
    {
      "cell_type": "code",
      "metadata": {
        "id": "Bx8tDQ8CCLt8"
      },
      "source": [
        "cnn.add(tf.keras.layers.Dense(units=2**11, activation='relu'))\n",
        "cnn.add(tf.keras.layers.Dense(units=2**8, activation='relu'))"
      ],
      "execution_count": null,
      "outputs": []
    },
    {
      "cell_type": "markdown",
      "metadata": {
        "id": "yTldFvbX28Na"
      },
      "source": [
        "### Step 5 - Output Layer"
      ]
    },
    {
      "cell_type": "code",
      "metadata": {
        "id": "1p_Zj1Mc3Ko_"
      },
      "source": [
        "cnn.add(tf.keras.layers.Dense(units=62, activation='softmax'))"
      ],
      "execution_count": null,
      "outputs": []
    },
    {
      "cell_type": "markdown",
      "metadata": {
        "id": "D6XkI90snSDl"
      },
      "source": [
        "## Part 3 - Training the CNN"
      ]
    },
    {
      "cell_type": "markdown",
      "metadata": {
        "id": "vfrFQACEnc6i"
      },
      "source": [
        "### Compiling the CNN"
      ]
    },
    {
      "cell_type": "code",
      "metadata": {
        "id": "NALksrNQpUlJ"
      },
      "source": [
        "cnn.compile(optimizer = 'adam', loss = 'sparse_categorical_crossentropy', metrics = ['accuracy'])"
      ],
      "execution_count": null,
      "outputs": []
    },
    {
      "cell_type": "markdown",
      "metadata": {
        "id": "ehS-v3MIpX2h"
      },
      "source": [
        "### Training the CNN on the Training set and evaluating it on the Test set"
      ]
    },
    {
      "cell_type": "code",
      "metadata": {
        "id": "XUj1W4PJptta"
      },
      "source": [
        "cnn.fit(x = training_set, validation_data = test_set, epochs = 100)"
      ],
      "execution_count": null,
      "outputs": []
    },
    {
      "cell_type": "markdown",
      "metadata": {
        "id": "U3PZasO0006Z"
      },
      "source": [
        "## Part 4 - Making a single prediction"
      ]
    },
    {
      "cell_type": "code",
      "metadata": {
        "id": "gsSiWEJY1BPB"
      },
      "source": [
        "import numpy as np\n",
        "from keras.preprocessing import image\n",
        "test_image = image.load_img('dogs_1280p_0.jpg', target_size = (64, 64))\n",
        "#test_image = image.load_img('/content/Section 40 - Convolutional Neural Networks (CNN)/dataset/single_prediction/cat_or_dog_2.jpg', target_size = (64, 64))\n",
        "test_image = image.img_to_array(test_image)\n",
        "test_image = np.expand_dims(test_image, axis = 0)\n",
        "result = cnn.predict(test_image)\n",
        "training_set.class_indices\n",
        "if result[0][0] == 1:\n",
        "  prediction = 'dog'\n",
        "else:\n",
        "  prediction = 'cat'"
      ],
      "execution_count": null,
      "outputs": []
    },
    {
      "cell_type": "code",
      "metadata": {
        "id": "ED9KB3I54c1i"
      },
      "source": [
        "print(prediction)"
      ],
      "execution_count": null,
      "outputs": []
    }
  ]
}