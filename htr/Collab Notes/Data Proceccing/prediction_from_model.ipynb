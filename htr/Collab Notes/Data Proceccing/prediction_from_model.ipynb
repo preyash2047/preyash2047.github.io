{
 "cells": [
  {
   "cell_type": "code",
   "execution_count": 1,
   "metadata": {
    "colab": {},
    "colab_type": "code",
    "id": "ucEqWyMJ0B5W"
   },
   "outputs": [],
   "source": [
    "import tensorflow as tf\n",
    "import numpy as np\n",
    "from keras.preprocessing import image\n",
    "import os\n",
    "import cv2"
   ]
  },
  {
   "cell_type": "code",
   "execution_count": 13,
   "metadata": {
    "colab": {
     "base_uri": "https://localhost:8080/",
     "height": 34
    },
    "colab_type": "code",
    "id": "ARPjmC99q4qe",
    "outputId": "7fbaa301-cd57-4325-f6b7-7e4af5abaeb8"
   },
   "outputs": [
    {
     "data": {
      "text/plain": [
       "(None, 64, 64, 3)"
      ]
     },
     "execution_count": 13,
     "metadata": {},
     "output_type": "execute_result"
    }
   ],
   "source": [
    "loaded_model = tf.keras.models.load_model('model/ABCD.h5')\n",
    "loaded_model.layers[0].input_shape #(None, 160, 160, 3)"
   ]
  },
  {
   "cell_type": "code",
   "execution_count": 14,
   "metadata": {
    "colab": {
     "base_uri": "https://localhost:8080/",
     "height": 510
    },
    "colab_type": "code",
    "id": "m2EQqmbJwx9f",
    "outputId": "9da44110-8d5e-4483-80dd-95c1cda6f7d2"
   },
   "outputs": [],
   "source": [
    "#loaded_model.summary()"
   ]
  },
  {
   "cell_type": "code",
   "execution_count": 15,
   "metadata": {},
   "outputs": [
    {
     "data": {
      "text/plain": [
       "'classKey = []\\nfile = open(\"model/selective_data_model.txt\", \"r\")\\nfor x in file:\\n    classKey.append(x[:-1])\\nclassKey'"
      ]
     },
     "execution_count": 15,
     "metadata": {},
     "output_type": "execute_result"
    }
   ],
   "source": [
    "classKey = [\"A\", \"B\", \"C\", \"D\", \"E\", \"F\"]\n",
    "\"\"\"classKey = []\n",
    "file = open(\"model/selective_data_model.txt\", \"r\")\n",
    "for x in file:\n",
    "    classKey.append(x[:-1])\n",
    "classKey\"\"\""
   ]
  },
  {
   "cell_type": "code",
   "execution_count": 25,
   "metadata": {
    "colab": {
     "base_uri": "https://localhost:8080/",
     "height": 754
    },
    "colab_type": "code",
    "id": "JUiO__J2rfqr",
    "outputId": "db033d05-8bcb-497b-e043-a2299c88e85c"
   },
   "outputs": [],
   "source": [
    "#tesing for specific folder\n",
    "import numpy as np\n",
    "from keras.preprocessing import image\n",
    "import os\n",
    "\n",
    "images = []\n",
    "IMG_SIZE = 62\n",
    "batch_holder = np.zeros((13, IMG_SIZE, IMG_SIZE, 3))\n",
    "img_dir='img/'\n",
    "for i,img in enumerate(os.listdir(img_dir)):\n",
    "    images.append(img)\n",
    "    img = image.load_img(os.path.join(img_dir,img), target_size=(IMG_SIZE,IMG_SIZE))\n",
    "    batch_holder[i, :] = img\n",
    "\n",
    "result=loaded_model.predict(batch_holder)\n",
    "#print(result[0])"
   ]
  },
  {
   "cell_type": "code",
   "execution_count": 26,
   "metadata": {},
   "outputs": [
    {
     "name": "stdout",
     "output_type": "stream",
     "text": [
      "image B.png : F\n",
      "image F.png : F\n",
      "image E.png : F\n",
      "image D.png : C\n",
      "image C.png : F\n",
      "image A.png : F\n"
     ]
    }
   ],
   "source": [
    "for i in range(13):\n",
    "    try:\n",
    "        print(f\"image {images[i]} : {classKey[list(result[i]).index(1.0)]}\")\n",
    "    except:\n",
    "        pass"
   ]
  },
  {
   "cell_type": "code",
   "execution_count": 12,
   "metadata": {},
   "outputs": [
    {
     "name": "stdout",
     "output_type": "stream",
     "text": [
      "N.png\n",
      "z.png\n",
      "L.png\n",
      "n.png\n",
      "J.png\n",
      "k.png\n",
      "O.png\n",
      "o.png\n",
      "K.png\n",
      "j.png\n",
      "m.png\n",
      "l.png\n",
      "M.png\n"
     ]
    }
   ],
   "source": [
    "for i in os.listdir(\"img/\"):\n",
    "    print(i)\n",
    "    img_rgb = cv2.imread(\"img/\"+i)\n",
    "    img_gray = cv2.cvtColor(img_rgb, cv2.COLOR_BGR2GRAY)\n",
    "    (thresh, blackAndWhiteImage) = cv2.threshold(img_gray, 127, 255, cv2.THRESH_BINARY)\n",
    "    cv2.imwrite(\"img/\"+i, blackAndWhiteImage)"
   ]
  },
  {
   "cell_type": "code",
   "execution_count": null,
   "metadata": {},
   "outputs": [],
   "source": [
    "from PIL import Image \n",
    "image_file = Image.open(\"img/a.png\") # open colour image\n",
    "image_file = image_file.convert('1') # convert image to black and white\n",
    "image_file.save('result.png')"
   ]
  },
  {
   "cell_type": "code",
   "execution_count": null,
   "metadata": {},
   "outputs": [],
   "source": []
  },
  {
   "cell_type": "markdown",
   "metadata": {},
   "source": [
    "# Defining the table for Croping Characters"
   ]
  },
  {
   "cell_type": "code",
   "execution_count": null,
   "metadata": {},
   "outputs": [],
   "source": [
    "# Read the image\n",
    "img = cv2.imread(\"img/a.png\", 0)\n",
    "\n",
    "# Thresholding the imageimage\n",
    "(thresh, img_bin) = cv2.threshold(img, 128, 255,cv2.THRESH_BINARY | cv2.THRESH_OTSU)\n",
    "# Invert the image\n",
    "img_bin = 255-img_bin \n",
    "cv2.imwrite(\"Image_bin.jpg\",img_bin)"
   ]
  },
  {
   "cell_type": "code",
   "execution_count": null,
   "metadata": {},
   "outputs": [],
   "source": []
  }
 ],
 "metadata": {
  "colab": {
   "name": "prediction from model.ipynb",
   "provenance": []
  },
  "kernelspec": {
   "display_name": "Python 3",
   "language": "python",
   "name": "python3"
  },
  "language_info": {
   "codemirror_mode": {
    "name": "ipython",
    "version": 3
   },
   "file_extension": ".py",
   "mimetype": "text/x-python",
   "name": "python",
   "nbconvert_exporter": "python",
   "pygments_lexer": "ipython3",
   "version": "3.7.7"
  }
 },
 "nbformat": 4,
 "nbformat_minor": 1
}
